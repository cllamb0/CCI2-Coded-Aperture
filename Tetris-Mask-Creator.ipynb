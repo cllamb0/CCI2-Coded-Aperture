{
 "cells": [
  {
   "cell_type": "code",
   "execution_count": 10,
   "id": "fcc906b4",
   "metadata": {},
   "outputs": [],
   "source": [
    "import numpy as np\n",
    "import os\n",
    "import argparse\n",
    "import time\n",
    "import matplotlib as mpl\n",
    "import matplotlib.pyplot as plt\n",
    "from matplotlib.patches import RegularPolygon\n",
    "from matplotlib.collections import PatchCollection\n",
    "from distinctipy import distinctipy\n",
    "import math\n",
    "import scipy.signal as signal\n",
    "from matplotlib.colors import from_levels_and_colors\n",
    "from matplotlib.colors import ListedColormap"
   ]
  },
  {
   "cell_type": "code",
   "execution_count": 35,
   "id": "cc498678",
   "metadata": {},
   "outputs": [],
   "source": [
    "def CreateMask(mask_size, open_frac):\n",
    "    mask = np.zeros(mask_size**2)\n",
    "    num_open = math.ceil(open_frac * (mask_size**2))\n",
    "\n",
    "    mask[np.random.choice(mask.size, num_open, replace=False)] = 1\n",
    "\n",
    "    mask = mask.reshape(mask_size, mask_size)\n",
    "        \n",
    "    return mask\n",
    "\n",
    "def VisualizeMask(plot_mask, mask_size, open_frac):\n",
    "    plot_mask = plot_mask.reshape(mask_size, mask_size)\n",
    "\n",
    "    cmap = mpl.cm.get_cmap(\"binary\").copy()\n",
    "    cmap.set_bad(color='black')\n",
    "\n",
    "    fig = plt.figure(figsize=(7,7), facecolor='white')\n",
    "    ax = fig.gca()\n",
    "    ax.axis(\"off\")\n",
    "\n",
    "    patches = []\n",
    "    for m, row in enumerate(plot_mask):\n",
    "        for n, col in enumerate(row):\n",
    "            square = RegularPolygon((n, -m), numVertices=4, radius=0.67,\n",
    "                                orientation=np.radians(45), edgecolor='white', linewidth=0.75, facecolor='white')\n",
    "            patches.append(square)\n",
    "\n",
    "    collection = PatchCollection(patches, match_original=True, cmap=cmap)\n",
    "    collection.set_array(np.ma.masked_where(plot_mask.flatten() <= 0, plot_mask.flatten()))\n",
    "    ax.add_collection(collection)\n",
    "\n",
    "    plt.plot(np.arange(mask_size+1)-0.5, np.ones(mask_size+1)*0.5, color='black')\n",
    "    plt.plot(np.arange(mask_size+1)-0.5, -np.ones(mask_size+1)*(mask_size-0.5), color='black')\n",
    "    plt.plot(np.ones(mask_size+1)-1.5, -np.arange(mask_size+1)+0.5, color='black')\n",
    "    plt.plot(np.ones(mask_size+1)+mask_size-1.5, -np.arange(mask_size+1)+0.5, color='black')\n",
    "\n",
    "    ax.set_aspect('equal')\n",
    "    ax.autoscale_view()\n",
    "    plt.tight_layout()\n",
    "\n",
    "#     plt.savefig(self.plots_dir+'{}_coded_mask.png'.format(sname), bbox_inches='tight')\n",
    "\n",
    "    return fig"
   ]
  },
  {
   "cell_type": "code",
   "execution_count": 100,
   "id": "1fde9490",
   "metadata": {},
   "outputs": [
    {
     "data": {
      "image/png": "[encoded data removed]",
      "text/plain": [
       "<Figure size 504x504 with 1 Axes>"
      ]
     },
     "metadata": {},
     "output_type": "display_data"
    }
   ],
   "source": [
    "mask_size, open_frac = 46, 0.7\n",
    "test = CreateMask(mask_size, open_frac)\n",
    "fig = VisualizeMask(test, mask_size, open_frac)\n",
    "plt.show()"
   ]
  },
  {
   "cell_type": "code",
   "execution_count": 889,
   "id": "f663c37d",
   "metadata": {},
   "outputs": [],
   "source": [
    "import matplotlib.colors"
   ]
  },
  {
   "cell_type": "code",
   "execution_count": 19,
   "id": "22d97b08",
   "metadata": {},
   "outputs": [],
   "source": [
    "# Classic Tetris blocks (4 elements)\n",
    "tetris_I = np.array([[0, 0, 0, 0]])\n",
    "tetris_J = np.array([[0, 1, 1],\n",
    "                     [0, 0, 0]])\n",
    "tetris_L = np.array([[1, 1, 0],\n",
    "                     [0, 0, 0]])\n",
    "tetris_O = np.array([[0, 0],\n",
    "                     [0, 0]])\n",
    "tetris_S = np.array([[1, 0, 0],\n",
    "                     [0, 0, 1]])\n",
    "tetris_T = np.array([[1, 0, 1],\n",
    "                     [0, 0, 0]])\n",
    "tetris_Z = np.array([[0, 0, 1],\n",
    "                     [1, 0, 0]])\n",
    "tetris_blocks = [tetris_I, tetris_J, tetris_L, tetris_O, tetris_S, tetris_T, tetris_Z]\n",
    "tetris_blocks_names = ['I', 'J', 'L', 'O', 'S', 'T', 'Z']\n",
    "tetris_block_inds = [1, 2, 3, 4, 5, 6, 7]\n",
    "tetris_colors = ['#00F0F0', '#0000F0', '#F0A000', '#F0F000', '#00F000', '#A000F0', '#F00000']\n",
    "tet_cmap = [mpl.colors.to_rgb(tet_col) for tet_col in tetris_colors]\n",
    "tet_cmap.insert(0, (1,1,1))\n",
    "# tet_cmap = ListedColormap(np.array(tet_cmap))\n",
    "# Extended Tetris blocks (used in Blokus) (5 elements)\n",
    "tetris_5p_1 = np.array([[0, 0, 0],\n",
    "                        [0, 1, 0]])\n",
    "tetris_5p_2 = np.array([[0, 0, 0, 0, 0]])\n",
    "tetris_5p_3 = np.array([[0, 1, 1],\n",
    "                        [0, 1, 1],\n",
    "                        [0 ,0 ,0]])\n",
    "tetris_5p_4 = np.array([[1, 0, 1],\n",
    "                        [0, 0, 0],\n",
    "                        [1, 0, 1]])\n",
    "tetris_5p_5 = np.array([[0, 0, 0, 0],\n",
    "                        [1, 1, 1, 0]])\n",
    "tetris_5p_5r = np.array([[0, 0, 0, 0],\n",
    "                         [0, 1, 1, 1]])\n",
    "tetris_5p_6 = np.array([[0, 0, 0, 0],\n",
    "                        [1, 1, 0, 1]])\n",
    "tetris_5p_6r = np.array([[0, 0, 0, 0],\n",
    "                         [1, 0, 1, 1]])\n",
    "tetris_5p_7 = np.array([[1, 1, 0],\n",
    "                        [0, 0, 0],\n",
    "                        [0, 1, 1]])\n",
    "tetris_5p_7r = np.array([[0, 1, 1],\n",
    "                         [0, 0, 0],\n",
    "                         [1, 1, 0]])\n",
    "tetris_5p_8 = np.array([[1, 1, 0],\n",
    "                        [1, 0, 0],\n",
    "                        [0, 0, 1]])\n",
    "tetris_5p_9 = np.array([[0, 0, 1],\n",
    "                        [0, 0, 0]])\n",
    "tetris_5p_9r = np.array([[0, 0, 0],\n",
    "                         [0, 0, 1]])\n",
    "tetris_5p_10 = np.array([[0, 1, 1],\n",
    "                         [0, 0, 0],\n",
    "                         [0, 1, 1]])\n",
    "tetris_5p_11 = np.array([[0, 0, 1],\n",
    "                         [1, 0, 0],\n",
    "                         [1, 0, 1]])\n",
    "tetris_5p_11r = np.array([[1, 0, 0],\n",
    "                          [0, 0, 1],\n",
    "                          [1, 0, 1]])\n",
    "tetris_5p_12 = np.array([[1, 0],\n",
    "                         [0, 0],\n",
    "                         [0, 1],\n",
    "                         [0, 1]])\n",
    "tetris_5p_12r = np.array([[0, 1],\n",
    "                          [0, 0],\n",
    "                          [1, 0],\n",
    "                          [1, 0]])\n",
    "tetris_blocks_5 = [tetris_5p_1, tetris_5p_2, tetris_5p_3, tetris_5p_4,\n",
    "                   tetris_5p_5, tetris_5p_5r, tetris_5p_6, tetris_5p_6r,\n",
    "                   tetris_5p_7, tetris_5p_7r, tetris_5p_8, tetris_5p_9,\n",
    "                   tetris_5p_9r, tetris_5p_10, tetris_5p_11, tetris_5p_11r,\n",
    "                   tetris_5p_12, tetris_5p_12r]\n",
    "tetris_blocks_5_names = ['1', '2', '3', '4', '5', '6', '7', '8', '9', '10', \n",
    "                         '11', '12', '5r', '6r', '7r', '9r', '11r', '12r']\n",
    "\n",
    "tetris_5_colors = distinctipy.get_colors(len(tetris_blocks_5))\n",
    "for t5c in tetris_5_colors:\n",
    "    tet_cmap.append(t5c)\n",
    "tet_cmap = ListedColormap(tet_cmap)\n",
    "\n",
    "def choose_block(bsize, invert=False):\n",
    "    if bsize == 4:\n",
    "        ct = np.random.randint(len(tetris_blocks))\n",
    "        block = np.rot90(tetris_blocks[ct], np.random.randint(4))\n",
    "    elif bsize == 5:\n",
    "        ct = np.random.randint(len(tetris_blocks_5))\n",
    "        block = np.rot90(tetris_blocks_5[ct], np.random.randint(4))\n",
    "    if invert:\n",
    "        return (~block.astype(bool)).astype(int), ct\n",
    "    return block, ct"
   ]
  },
  {
   "cell_type": "code",
   "execution_count": 1040,
   "id": "3cee3b8e",
   "metadata": {},
   "outputs": [
    {
     "data": {
      "text/plain": [
       "(array([[1, 0],\n",
       "        [0, 0],\n",
       "        [0, 1]]),\n",
       " 6)"
      ]
     },
     "execution_count": 1040,
     "metadata": {},
     "output_type": "execute_result"
    }
   ],
   "source": [
    "choose_block()"
   ]
  },
  {
   "cell_type": "code",
   "execution_count": 893,
   "id": "c291a686",
   "metadata": {},
   "outputs": [
    {
     "data": {
      "text/plain": [
       "(0.0, 0.9411764705882353, 0.9411764705882353, 1.0)"
      ]
     },
     "execution_count": 893,
     "metadata": {},
     "output_type": "execute_result"
    }
   ],
   "source": [
    "matplotlib.colors.to_rgba(tetris_colors[0])"
   ]
  },
  {
   "cell_type": "code",
   "execution_count": 20,
   "id": "70b15c97",
   "metadata": {},
   "outputs": [],
   "source": [
    "def valid_block_placement(mask, block, ul_corner):\n",
    "    if (np.where(mask[ul_corner[0]:ul_corner[0]+block.shape[0],\n",
    "                     ul_corner[1]:ul_corner[1]+block.shape[1]] == 0, 0, 1) & block).astype(bool).any():\n",
    "        return False\n",
    "    return True\n",
    "# #             if ((mask[ul_corner[0]+row, ul_corner[1]+col] != 0) and (block[row, col] != 0)):\n",
    "#             if vprint:\n",
    "#                 print('Overlapping')\n",
    "#             results.append(False)\n",
    "# #             if ((mask[ul_corner[0]+row, ul_corner[1]+col] != 0) and (block[row, col] == 0)):\n",
    "# #                 if vprint:\n",
    "# #                     print('Mask 1, Block 0')\n",
    "# #                 results.append(True)\n",
    "# #             elif ((mask[ul_corner[0]+row, ul_corner[1]+col] == 0) and (block[row, col] == 0)):\n",
    "# #                 if vprint:\n",
    "# #                     print('Mask 0, Block 0')\n",
    "# #                 results.append(True)\n",
    "# #             elif ((mask[ul_corner[0]+row, ul_corner[1]+col] == 0) and (block[row, col] != 0)):\n",
    "# #                 if vprint:\n",
    "# #                     print('Mask 0, Block 1')\n",
    "# #                 results.append(True)\n",
    "#         else:\n",
    "#             results.append(True)\n",
    "#     except:\n",
    "#         print('--------')\n",
    "#         print('FAIL')\n",
    "#         print(mask)\n",
    "#         print(block)\n",
    "#         print(block.shape)\n",
    "#         print(ul_corner[0], ul_corner[1])\n",
    "# #         print(row, col)\n",
    "#         print('--------')\n",
    "#     if all(results):\n",
    "#         print('--------')\n",
    "#         print(block)\n",
    "#         print(ul_corner[0], ul_corner[1])\n",
    "#         print(mask)\n",
    "#         print('Block acceptable')\n",
    "#     return all(results)"
   ]
  },
  {
   "cell_type": "code",
   "execution_count": 986,
   "id": "ba20a0e2",
   "metadata": {},
   "outputs": [],
   "source": [
    "import matplotlib.gridspec as gridspec\n",
    "def subplots_centered(nrows, ncols, figsize, nfigs):\n",
    "    \"\"\"\n",
    "    Function taken from stackoverflow because I want the 3rd plot to be centered but don't want to waste time\n",
    "    on just making a plot that I can already make just look a little nicer\n",
    "    https://stackoverflow.com/questions/53361373/center-the-third-subplot-in-the-middle-of-second-row-python\n",
    "    \"\"\"\n",
    "\n",
    "    fig = plt.figure(figsize=figsize)\n",
    "    axs = []\n",
    "\n",
    "    m = nfigs % ncols\n",
    "    m = range(1, ncols+1)[-m]\n",
    "    gs = gridspec.GridSpec(nrows, m*ncols)\n",
    "\n",
    "    for i in range(0, nfigs):\n",
    "        row = i // ncols\n",
    "        col = i % ncols\n",
    "\n",
    "        if row == nrows-1:\n",
    "            off = int(m * (ncols - nfigs % ncols) / 2)\n",
    "        else:\n",
    "            off = 0\n",
    "\n",
    "        ax = plt.subplot(gs[row, m*col + off : m*(col+1) + off])\n",
    "        axs.append(ax)\n",
    "\n",
    "    return fig, axs"
   ]
  },
  {
   "cell_type": "code",
   "execution_count": 783,
   "id": "fdf9c105",
   "metadata": {},
   "outputs": [
    {
     "data": {
      "text/plain": [
       "3"
      ]
     },
     "execution_count": 783,
     "metadata": {},
     "output_type": "execute_result"
    }
   ],
   "source": [
    "round(((1-open_frac)*mask_size**2)/4)"
   ]
  },
  {
   "cell_type": "code",
   "execution_count": 882,
   "id": "1aa719f1",
   "metadata": {},
   "outputs": [
    {
     "data": {
      "text/plain": [
       "array([  0. , 211.6])"
      ]
     },
     "execution_count": 882,
     "metadata": {},
     "output_type": "execute_result"
    }
   ],
   "source": [
    "frac_tetris = 1\n",
    "np.linalg.solve(np.array([[4, 5], [frac_tetris, (frac_tetris-1)]]), \n",
    "    np.array([[(1-open_frac)*mask_size**2], [0]])).reshape(2,)"
   ]
  },
  {
   "cell_type": "code",
   "execution_count": 832,
   "id": "b5f0429c",
   "metadata": {},
   "outputs": [
    {
     "data": {
      "text/plain": [
       "array([[4. , 5. ],\n",
       "       [0.4, 0.6]])"
      ]
     },
     "execution_count": 832,
     "metadata": {},
     "output_type": "execute_result"
    }
   ],
   "source": [
    "np.array([[4, 5], [frac_tetris, (frac_tetris-1)]])"
   ]
  },
  {
   "cell_type": "code",
   "execution_count": 886,
   "id": "e6ea575e",
   "metadata": {},
   "outputs": [
    {
     "name": "stdout",
     "output_type": "stream",
     "text": [
      "test\n"
     ]
    },
    {
     "data": {
      "text/plain": [
       "array([[0, 1, 0],\n",
       "       [1, 1, 1]])"
      ]
     },
     "execution_count": 886,
     "metadata": {},
     "output_type": "execute_result"
    }
   ],
   "source": [
    "choose_block(True, bsize=4)"
   ]
  },
  {
   "cell_type": "code",
   "execution_count": 1008,
   "id": "e235d0ff",
   "metadata": {},
   "outputs": [
    {
     "data": {
      "text/plain": [
       "array([ 50, 201])"
      ]
     },
     "execution_count": 1008,
     "metadata": {},
     "output_type": "execute_result"
    }
   ],
   "source": [
    "frac_tetris = 0.8\n",
    "np.linalg.solve(np.array([[5, 4], [frac_tetris, (frac_tetris-1)]]), \n",
    "                                               np.array([[(1-open_frac)*mask_size**2], [0]])).reshape(\n",
    "                                                2,).astype(int)"
   ]
  },
  {
   "cell_type": "code",
   "execution_count": 1030,
   "id": "0350bc3f",
   "metadata": {},
   "outputs": [
    {
     "data": {
      "text/plain": [
       "[(0.0, 1.0, 0.0),\n",
       " (1.0, 0.0, 1.0),\n",
       " (0.0, 0.5, 1.0),\n",
       " (1.0, 0.5, 0.0),\n",
       " (0.5, 0.75, 0.5),\n",
       " (0.3129596020547807, 0.07711630779871848, 0.6315530221912766),\n",
       " (0.7422273598484075, 0.03218489386576717, 0.09193574271662419),\n",
       " (0.020520240816072288, 0.49238398699194064, 0.17954268495632109),\n",
       " (0.8037421090114234, 0.4758854418681103, 0.966040221810231),\n",
       " (0.12155942823886068, 0.9995953899885821, 0.8992848578184548),\n",
       " (1.0, 1.0, 0.0),\n",
       " (0.9967797375847983, 0.26604871478416114, 0.5176169459919981),\n",
       " (0.5323953362005844, 0.38806331187329923, 0.28754049575825136),\n",
       " (0.0, 0.0, 1.0),\n",
       " (0.9679956798892233, 0.7536941831970412, 0.5080717105935062),\n",
       " (0.5176813686954529, 0.9062898738374938, 0.030901521301694657),\n",
       " (0.042097921739132516, 0.9714412119562962, 0.45563811827377965),\n",
       " (0.19610120417629684, 0.4409862999401032, 0.6016919636914104)]"
      ]
     },
     "execution_count": 1030,
     "metadata": {},
     "output_type": "execute_result"
    }
   ],
   "source": [
    "distinctipy.get_colors(len(tetris_blocks_5))"
   ]
  },
  {
   "cell_type": "code",
   "execution_count": 1041,
   "id": "d1e4109d",
   "metadata": {
    "scrolled": false
   },
   "outputs": [
    {
     "data": {
      "image/png": "[encoded data removed]",
      "text/plain": [
       "<Figure size 1008x504 with 2 Axes>"
      ]
     },
     "metadata": {},
     "output_type": "display_data"
    }
   ],
   "source": [
    "mask_size = 46\n",
    "open_frac = 0.5\n",
    "frac_tetris = 0.8\n",
    "bsize = 5\n",
    "init_mask = np.zeros((mask_size, mask_size))\n",
    "tetris_colors = ['#00F0F0', '#0000F0', '#F0A000', '#F0F000', '#00F000', '#A000F0', '#F00000']\n",
    "exceptt = False\n",
    "if frac_tetris == 1:\n",
    "    tetris_needed = round(((1-open_frac)*mask_size**2)/4)\n",
    "    blokus_needed = 0\n",
    "    tet_cmap = [matplotlib.colors.to_rgb(tet_col) for tet_col in tetris_colors]\n",
    "    tet_cmap.insert(0, (1,1,1))\n",
    "elif frac_tetris == 0:\n",
    "    tetris_needed = 0\n",
    "    blokus_needed = round(((1-open_frac)*mask_size**2)/5)\n",
    "    tet_cmap = distinctipy.get_colors(len(tetris_blocks_5))\n",
    "    tet_cmap.insert(0, (1,1,1))\n",
    "else:\n",
    "    blokus_needed, tetris_needed = np.linalg.solve(np.array([[5, 4], [frac_tetris, (frac_tetris-1)]]), \n",
    "                                               np.array([[(1-open_frac)*mask_size**2], [0]])).reshape(\n",
    "                                                2,).astype(int)\n",
    "    tet_cmap = [matplotlib.colors.to_rgb(tet_col) for tet_col in tetris_colors]\n",
    "    tet_cmap.insert(0, (1,1,1))\n",
    "    tetris_5_colors = distinctipy.get_colors(len(tetris_blocks_5))\n",
    "    for t5c in tetris_5_colors:\n",
    "        tet_cmap.append(t5c)\n",
    "    \n",
    "tet_cmap = ListedColormap(tet_cmap)\n",
    "for block_num in range(tetris_needed):\n",
    "    block_needed = True\n",
    "    while block_needed:\n",
    "        chosen_block, block_ind = choose_block(True, bsize=4)\n",
    "        c_ind = np.random.randint((np.array(init_mask.shape) - np.array(chosen_block.shape) + 1))\n",
    "        if valid_block_placement(init_mask, chosen_block, c_ind):\n",
    "            for row, col in np.ndindex(chosen_block.shape):\n",
    "                if chosen_block[row, col] == 1:\n",
    "#                     init_mask[c_ind[0]+row, c_ind[1]+col] = block_num+1\n",
    "                    init_mask[c_ind[0]+row, c_ind[1]+col] = block_ind+1\n",
    "            block_needed = False\n",
    "for block_num_blok in range(blokus_needed):\n",
    "    block_needed = True\n",
    "    while block_needed:\n",
    "        chosen_block, block_ind = choose_block(True, bsize=5)\n",
    "        c_ind = np.random.randint((np.array(init_mask.shape) - np.array(chosen_block.shape) + 1))\n",
    "        if valid_block_placement(init_mask, chosen_block, c_ind):\n",
    "            for row, col in np.ndindex(chosen_block.shape):\n",
    "                if chosen_block[row, col] == 1:\n",
    "#                     init_mask[c_ind[0]+row, c_ind[1]+col] = block_num_blok+block_num+2\n",
    "                    init_mask[c_ind[0]+row, c_ind[1]+col] = block_ind+8\n",
    "            block_needed = False\n",
    "            \n",
    "tet_col = mpl.cm.get_cmap(\"winter\").copy()(np.linspace(0,1,tetris_needed))\n",
    "blok_col = mpl.cm.get_cmap(\"copper\").copy()(np.linspace(0,1,blokus_needed))\n",
    "\n",
    "custom_cmap = ListedColormap(np.vstack((np.array([[1, 1, 1, 1]]), tet_col, blok_col)))\n",
    "\n",
    "# fig, [ax1, ax2, ax3] = subplots_centered(2, 2, (14, 14), 3)\n",
    "fig, [ax1, ax2] = plt.subplots(1, 2, figsize=(14,7), facecolor='white')\n",
    "# im = ax1.imshow(init_mask, cmap=tet_cmap)\n",
    "# im = ax1.imshow(init_mask, cmap=custom_cmap)\n",
    "# ax1.set_xlabel('Grouped Colors\\n(Green - Blue) = 4 elements | (Yellow - Red) = 5 elements', fontsize=15)\n",
    "\n",
    "im = ax1.imshow(init_mask, cmap=tet_cmap)\n",
    "# im = ax1.imshow(init_mask, cmap=custom_cmap)\n",
    "ax1.set_xlabel('Unique Colors', fontsize=15)\n",
    "\n",
    "cmap = mpl.cm.get_cmap(\"binary\").copy()\n",
    "im = ax2.imshow(np.where(init_mask == 0, 0, 1), cmap=cmap)\n",
    "ax2.set_xlabel('B/W', fontsize=15)\n",
    "\n",
    "\n",
    "\n",
    "plt.tight_layout()\n",
    "plt.suptitle('{} blocks of 4 elements\\n{} blocks of 5 elements'.format(\n",
    "            tetris_needed, blokus_needed), y=1.07, fontsize=20)\n",
    "\n",
    "\n",
    "# plt.savefig('Plots/Tetris-mask.png', dpi=300, bbox_inches='tight', facecolor='white')\n",
    "plt.show()\n",
    "\n",
    "# fig, [ax1, ax2] = plt.subplots(1, 2, figsize=(14,7), facecolor='white')\n",
    "# im = ax1.imshow(init_mask, cmap=tet_cmap)\n",
    "# # im = ax1.imshow(init_mask, cmap=custom_cmap)\n",
    "# ax1.set_xlabel('Color (for visualization)', fontsize=15)\n",
    "\n",
    "# cmap = mpl.cm.get_cmap(\"binary\").copy()\n",
    "# im = ax2.imshow(np.where(init_mask == 0, 0, 1), cmap=cmap)\n",
    "# ax2.set_xlabel('B/W', fontsize=15)\n",
    "# plt.tight_layout()\n",
    "# plt.suptitle('{} blocks of 4 elements\\n{} blocks of 5 elements'.format(\n",
    "#             tetris_needed, blokus_needed), y=1.06, fontsize=20)\n",
    "# plt.savefig('Plots/Tetris-mask-unique-col.png', dpi=300, bbox_inches='tight')\n",
    "# plt.show()"
   ]
  },
  {
   "cell_type": "code",
   "execution_count": 21,
   "id": "b8cd1d75",
   "metadata": {},
   "outputs": [],
   "source": [
    "block_colors =  {0 : np.array([255, 255, 255]),\n",
    "                 1 : np.array([70, 240, 240]),\n",
    "                 2 : np.array([0, 0, 240]),\n",
    "                 3 : np.array([0, 0, 240]),\n",
    "                 4 : np.array([240, 240, 0]),\n",
    "                 5 : np.array([240, 0, 0]),\n",
    "                 6 : np.array([160, 0, 240]),\n",
    "                 7 : np.array([240, 0, 0]),\n",
    "                 8 : np.array([128, 0, 0]),\n",
    "                 9 : np.array([250, 190, 212]),\n",
    "                 10: np.array([170, 110, 40]),\n",
    "                 11: np.array([255, 215, 180]),\n",
    "                 12: np.array([245, 130, 48]),\n",
    "                 13: np.array([245, 130, 48]),\n",
    "                 14: np.array([128, 128, 0]),\n",
    "                 15: np.array([128, 128, 0]),\n",
    "                 16: np.array([210, 245, 60]),\n",
    "                 17: np.array([210, 245, 60]),\n",
    "                 18: np.array([170, 255, 195]),\n",
    "                 19: np.array([60, 180, 75]),\n",
    "                 20: np.array([60, 180, 75]),\n",
    "                 21: np.array([0, 128, 128]),\n",
    "                 22: np.array([0, 130, 200]),\n",
    "                 23: np.array([0, 130, 200]),\n",
    "                 24: np.array([240, 50, 230]),\n",
    "                 25: np.array([240, 50, 230])}"
   ]
  },
  {
   "cell_type": "code",
   "execution_count": 39,
   "id": "13bf602f",
   "metadata": {},
   "outputs": [],
   "source": [
    "def Create_Tetris_Mask(mask_size, open_frac, frac_tetris, visualize=False):\n",
    "    tet_mask = np.zeros((mask_size, mask_size))\n",
    "    \n",
    "    # Determining number of each block size needed\n",
    "    if frac_tetris == 1:\n",
    "        tetris_needed = round(((1-open_frac)*mask_size**2)/4)\n",
    "        blokus_needed = 0\n",
    "    elif frac_tetris == 0:\n",
    "        tetris_needed = 0\n",
    "        blokus_needed = round(((1-open_frac)*mask_size**2)/5)\n",
    "\n",
    "    else:\n",
    "        blokus_needed, tetris_needed = np.linalg.solve(np.array([[5, 4], [frac_tetris, (frac_tetris-1)]]), \n",
    "                                                   np.array([[(1-open_frac)*mask_size**2], [0]])).reshape(\n",
    "                                                    2,).astype(int)\n",
    "        \n",
    "    # Placing tetris blocks into place\n",
    "    for block_num in range(tetris_needed):\n",
    "        block_needed = True\n",
    "        while block_needed:\n",
    "            chosen_block, block_ind = choose_block(4, True)\n",
    "            c_ind = np.random.randint((np.array(tet_mask.shape) - np.array(chosen_block.shape) + 1))\n",
    "            if valid_block_placement(tet_mask, chosen_block, c_ind):\n",
    "                for row, col in np.ndindex(chosen_block.shape):\n",
    "                    if chosen_block[row, col] == 1:\n",
    "                        tet_mask[c_ind[0]+row, c_ind[1]+col] = block_ind+1\n",
    "                block_needed = False\n",
    "            \n",
    "    # Placing blokus blocks into place\n",
    "    for block_num_blok in range(blokus_needed):\n",
    "        block_needed = True\n",
    "        while block_needed:\n",
    "            chosen_block, block_ind = choose_block(5, True)\n",
    "            c_ind = np.random.randint((np.array(tet_mask.shape) - np.array(chosen_block.shape) + 1))\n",
    "            if valid_block_placement(tet_mask, chosen_block, c_ind):\n",
    "                for row, col in np.ndindex(chosen_block.shape):\n",
    "                    if chosen_block[row, col] == 1:\n",
    "                        tet_mask[c_ind[0]+row, c_ind[1]+col] = block_ind+8\n",
    "                block_needed = False\n",
    "                \n",
    "    if visualize:\n",
    "        mask_3d = np.ndarray(shape=(tet_mask.shape[0], tet_mask.shape[1], 3), dtype=int)\n",
    "        for i in range(tet_mask.shape[0]):\n",
    "            for j in range(tet_mask.shape[1]):\n",
    "                mask_3d[i][j] = block_colors[tet_mask[i][j]]\n",
    "                \n",
    "        plt.figure(figsize=(7,7), dpi=200, facecolor='white')\n",
    "        plt.imshow(mask_3d)\n",
    "        ax = plt.gca()\n",
    "        for i in range(0, tet_mask.shape[0]):\n",
    "            for j in range(0, tet_mask.shape[1]):\n",
    "                c = tet_mask[j,i]\n",
    "                if c == 0:\n",
    "                    continue\n",
    "                ax.text(i, j, str(int(c)), va='center', ha='center', fontsize=(46*5)/mask_size)\n",
    "        plt.title('{} blocks of 4 elements\\n{} blocks of 5 elements'.format(\n",
    "            tetris_needed, blokus_needed), y=1.01)\n",
    "        plt.show()\n",
    "    else:\n",
    "        return tet_mask"
   ]
  },
  {
   "cell_type": "code",
   "execution_count": 36,
   "id": "9fb8dcad",
   "metadata": {},
   "outputs": [
    {
     "data": {
      "text/plain": [
       "1.0869565217391304"
      ]
     },
     "execution_count": 36,
     "metadata": {},
     "output_type": "execute_result"
    }
   ],
   "source": [
    "5/46*10"
   ]
  },
  {
   "cell_type": "code",
   "execution_count": 40,
   "id": "f265d175",
   "metadata": {},
   "outputs": [
    {
     "data": {
      "image/png": "[encoded data removed]",
      "text/plain": [
       "<Figure size 1400x1400 with 1 Axes>"
      ]
     },
     "metadata": {},
     "output_type": "display_data"
    }
   ],
   "source": [
    "# np.random.seed(69)\n",
    "Create_Tetris_Mask(46, 0.5, 0.6, True)"
   ]
  },
  {
   "cell_type": "code",
   "execution_count": 1052,
   "id": "13374225",
   "metadata": {},
   "outputs": [],
   "source": [
    "data_3d = np.ndarray(shape=(init_mask.shape[0], init_mask.shape[1], 3), dtype=int)\n",
    "for i in range(init_mask.shape[0]):\n",
    "    for j in range(init_mask.shape[1]):\n",
    "        data_3d[i][j] = block_colors[init_mask[i][j]]"
   ]
  },
  {
   "cell_type": "code",
   "execution_count": 1056,
   "id": "7cde73a6",
   "metadata": {},
   "outputs": [
    {
     "data": {
      "text/plain": [
       "<matplotlib.image.AxesImage at 0x7fb718ca7160>"
      ]
     },
     "execution_count": 1056,
     "metadata": {},
     "output_type": "execute_result"
    },
    {
     "data": {
      "image/png": "[encoded data removed]",
      "text/plain": [
       "<Figure size 504x504 with 1 Axes>"
      ]
     },
     "metadata": {
      "needs_background": "light"
     },
     "output_type": "display_data"
    }
   ],
   "source": [
    "plt.figure(figsize=(7,7))\n",
    "plt.imshow(data_3d)"
   ]
  },
  {
   "cell_type": "code",
   "execution_count": 1045,
   "id": "48a63804",
   "metadata": {},
   "outputs": [
    {
     "data": {
      "text/plain": [
       "array([[ 0.,  0., 25., 25.,  0.,  2.,  0.,  0.,  0.,  0.],\n",
       "       [25., 25., 25.,  0.,  0.,  2.,  0.,  0.,  0.,  0.],\n",
       "       [ 0.,  0.,  0.,  0.,  2.,  2.,  0.,  7.,  7.,  0.],\n",
       "       [ 6.,  0.,  0.,  0.,  0.,  0.,  0.,  2.,  7.,  7.],\n",
       "       [ 6.,  6.,  7.,  0., 10.,  0.,  0.,  2., 20., 20.],\n",
       "       [ 6.,  7.,  7.,  0., 10.,  0.,  2.,  2.,  0., 20.],\n",
       "       [20.,  7., 10., 10., 10.,  0.,  0.,  6.,  0., 20.],\n",
       "       [20.,  8.,  0.,  8.,  0., 24.,  0.,  6.,  6., 20.],\n",
       "       [20.,  8.,  8.,  8., 24., 24., 24.,  6.,  0.,  0.],\n",
       "       [20., 20.,  0.,  0.,  0.,  0., 24.,  0.,  0.,  0.]])"
      ]
     },
     "execution_count": 1045,
     "metadata": {},
     "output_type": "execute_result"
    }
   ],
   "source": [
    "Create_Tetris_Mask(10, 0.4, 0.5)"
   ]
  },
  {
   "cell_type": "code",
   "execution_count": 917,
   "id": "8f1b142a",
   "metadata": {},
   "outputs": [],
   "source": [
    "import distinctipy"
   ]
  },
  {
   "cell_type": "code",
   "execution_count": 932,
   "id": "92b621b0",
   "metadata": {},
   "outputs": [],
   "source": [
    "colors = distinctipy.get_colors(26)"
   ]
  },
  {
   "cell_type": "code",
   "execution_count": 934,
   "id": "91354c24",
   "metadata": {},
   "outputs": [
    {
     "data": {
      "text/plain": [
       "[(0.0, 1.0, 0.0),\n",
       " (1.0, 0.0, 1.0),\n",
       " (0.0, 0.5, 1.0),\n",
       " (1.0, 0.5, 0.0),\n",
       " (0.5, 0.75, 0.5),\n",
       " (0.37498948148046884, 0.09060572825491953, 0.6079829733279646),\n",
       " (0.8170749962224527, 0.024185739684127183, 0.12906359687222668),\n",
       " (0.0, 1.0, 1.0),\n",
       " (0.9335895834320471, 0.4821786521336193, 0.8100481759306726),\n",
       " (0.1757547177674248, 0.48929077363088613, 0.010142686864006323),\n",
       " (1.0, 1.0, 0.0),\n",
       " (0.0, 0.0, 1.0),\n",
       " (0.0, 1.0, 0.5),\n",
       " (0.0, 0.5, 0.5),\n",
       " (0.5239909195591945, 0.8411240747496189, 0.00020662579882679832),\n",
       " (0.6622626827013545, 0.3632304578706156, 0.38266996517947005),\n",
       " (0.4938976813939395, 0.9025574686448693, 0.9839537552857193),\n",
       " (0.9905765899125895, 0.8024100013082641, 0.487697688465485),\n",
       " (0.5, 0.5, 1.0),\n",
       " (0.973215745343813, 0.13939129330407418, 0.5320405300572237),\n",
       " (0.5, 0.0, 1.0),\n",
       " (0.2950162095502412, 0.20353784051742108, 0.20176976626802845),\n",
       " (0.059614685207842966, 0.7371512610200955, 0.745293984871689),\n",
       " (0.1647042134112564, 0.7772024849458008, 0.23406890092949562),\n",
       " (0.6045003975870903, 0.48493567112667013, 0.011327004941617536),\n",
       " (8.509495973607617e-05, 0.21528996952785973, 0.7268296647312029)]"
      ]
     },
     "execution_count": 934,
     "metadata": {},
     "output_type": "execute_result"
    }
   ],
   "source": [
    "colors"
   ]
  },
  {
   "cell_type": "code",
   "execution_count": 933,
   "id": "57ef0bc2",
   "metadata": {},
   "outputs": [
    {
     "data": {
      "image/png": "[encoded data removed]",
      "text/plain": [
       "<Figure size 576x576 with 1 Axes>"
      ]
     },
     "metadata": {
      "needs_background": "light"
     },
     "output_type": "display_data"
    }
   ],
   "source": [
    "distinctipy.color_swatch(colors)"
   ]
  },
  {
   "cell_type": "code",
   "execution_count": 915,
   "id": "86ec3207",
   "metadata": {},
   "outputs": [
    {
     "data": {
      "text/plain": [
       "array([[0., 0., 5., ..., 0., 4., 4.],\n",
       "       [1., 5., 5., ..., 0., 4., 4.],\n",
       "       [1., 0., 0., ..., 3., 4., 4.],\n",
       "       ...,\n",
       "       [0., 7., 7., ..., 4., 1., 1.],\n",
       "       [0., 0., 7., ..., 4., 1., 1.],\n",
       "       [0., 0., 0., ..., 1., 1., 1.]])"
      ]
     },
     "execution_count": 915,
     "metadata": {},
     "output_type": "execute_result"
    }
   ],
   "source": [
    "init_mask"
   ]
  },
  {
   "cell_type": "code",
   "execution_count": 867,
   "id": "82fca313",
   "metadata": {},
   "outputs": [],
   "source": [
    "from matplotlib.colors import ListedColormap"
   ]
  },
  {
   "cell_type": "code",
   "execution_count": 869,
   "id": "9505c2da",
   "metadata": {},
   "outputs": [
    {
     "data": {
      "image/png": "[encoded data removed]",
      "text/plain": [
       "<Figure size 1008x504 with 2 Axes>"
      ]
     },
     "metadata": {},
     "output_type": "display_data"
    }
   ],
   "source": [
    "tet_col = mpl.cm.get_cmap(\"winter\").copy()(np.linspace(0,1,tetris_needed))\n",
    "blok_col = mpl.cm.get_cmap(\"autumn\").copy()(np.linspace(0,1,blokus_needed))\n",
    "\n",
    "custom_cmap = ListedColormap(np.vstack((np.array([[1, 1, 1, 1]]), tet_col, blok_col)))\n",
    "\n",
    "fig, [ax1, ax2] = plt.subplots(1, 2, figsize=(14,7), facecolor='white')\n",
    "im = ax1.imshow(init_mask, cmap=custom_cmap, vmin=1)\n",
    "\n",
    "cmap = mpl.cm.get_cmap(\"binary\").copy()\n",
    "im = ax2.imshow(np.where(init_mask == 0, 0, 1), cmap=cmap)\n",
    "plt.tight_layout()\n",
    "plt.suptitle('{} blocks of 4 elements\\n{} blocks of 5 elements'.format(\n",
    "            tetris_needed, blokus_needed), y=1.06, fontsize=20)\n",
    "plt.show()"
   ]
  },
  {
   "cell_type": "code",
   "execution_count": 863,
   "id": "c3f5f668",
   "metadata": {},
   "outputs": [],
   "source": [
    "tet_col = mpl.cm.get_cmap(\"winter\").copy()(np.linspace(0,1,tetris_needed))\n",
    "blok_col = mpl.cm.get_cmap(\"autumn\").copy()(np.linspace(0,1,blokus_needed))\n",
    "\n",
    "custom_cmap = np.vstack((np.array([[1, 1, 1, 1]]), tet_col, blok_col))"
   ]
  },
  {
   "cell_type": "code",
   "execution_count": 864,
   "id": "bf1652fb",
   "metadata": {},
   "outputs": [
    {
     "data": {
      "text/plain": [
       "array([[1.        , 1.        , 1.        , 1.        ],\n",
       "       [0.        , 0.        , 1.        , 1.        ],\n",
       "       [0.        , 0.00784314, 0.99607843, 1.        ],\n",
       "       [0.        , 0.01960784, 0.99019608, 1.        ],\n",
       "       [0.        , 0.03137255, 0.98431373, 1.        ],\n",
       "       [0.        , 0.03921569, 0.98039216, 1.        ],\n",
       "       [0.        , 0.05098039, 0.9745098 , 1.        ],\n",
       "       [0.        , 0.0627451 , 0.96862745, 1.        ],\n",
       "       [0.        , 0.07058824, 0.96470588, 1.        ],\n",
       "       [0.        , 0.08235294, 0.95882353, 1.        ],\n",
       "       [0.        , 0.09411765, 0.95294118, 1.        ],\n",
       "       [0.        , 0.10196078, 0.94901961, 1.        ],\n",
       "       [0.        , 0.11372549, 0.94313725, 1.        ],\n",
       "       [0.        , 0.1254902 , 0.9372549 , 1.        ],\n",
       "       [0.        , 0.1372549 , 0.93137255, 1.        ],\n",
       "       [0.        , 0.14509804, 0.92745098, 1.        ],\n",
       "       [0.        , 0.15686275, 0.92156863, 1.        ],\n",
       "       [0.        , 0.16862745, 0.91568627, 1.        ],\n",
       "       [0.        , 0.17647059, 0.91176471, 1.        ],\n",
       "       [0.        , 0.18823529, 0.90588235, 1.        ],\n",
       "       [0.        , 0.2       , 0.9       , 1.        ],\n",
       "       [0.        , 0.20784314, 0.89607843, 1.        ],\n",
       "       [0.        , 0.21960784, 0.89019608, 1.        ],\n",
       "       [0.        , 0.23137255, 0.88431373, 1.        ],\n",
       "       [0.        , 0.23921569, 0.88039216, 1.        ],\n",
       "       [0.        , 0.25098039, 0.8745098 , 1.        ],\n",
       "       [0.        , 0.2627451 , 0.86862745, 1.        ],\n",
       "       [0.        , 0.2745098 , 0.8627451 , 1.        ],\n",
       "       [0.        , 0.28235294, 0.85882353, 1.        ],\n",
       "       [0.        , 0.29411765, 0.85294118, 1.        ],\n",
       "       [0.        , 0.30588235, 0.84705882, 1.        ],\n",
       "       [0.        , 0.31372549, 0.84313725, 1.        ],\n",
       "       [0.        , 0.3254902 , 0.8372549 , 1.        ],\n",
       "       [0.        , 0.3372549 , 0.83137255, 1.        ],\n",
       "       [0.        , 0.34509804, 0.82745098, 1.        ],\n",
       "       [0.        , 0.35686275, 0.82156863, 1.        ],\n",
       "       [0.        , 0.36862745, 0.81568627, 1.        ],\n",
       "       [0.        , 0.38039216, 0.80980392, 1.        ],\n",
       "       [0.        , 0.38823529, 0.80588235, 1.        ],\n",
       "       [0.        , 0.4       , 0.8       , 1.        ],\n",
       "       [0.        , 0.41176471, 0.79411765, 1.        ],\n",
       "       [0.        , 0.41960784, 0.79019608, 1.        ],\n",
       "       [0.        , 0.43137255, 0.78431373, 1.        ],\n",
       "       [0.        , 0.44313725, 0.77843137, 1.        ],\n",
       "       [0.        , 0.45098039, 0.7745098 , 1.        ],\n",
       "       [0.        , 0.4627451 , 0.76862745, 1.        ],\n",
       "       [0.        , 0.4745098 , 0.7627451 , 1.        ],\n",
       "       [0.        , 0.48235294, 0.75882353, 1.        ],\n",
       "       [0.        , 0.49411765, 0.75294118, 1.        ],\n",
       "       [0.        , 0.50588235, 0.74705882, 1.        ],\n",
       "       [0.        , 0.51764706, 0.74117647, 1.        ],\n",
       "       [0.        , 0.5254902 , 0.7372549 , 1.        ],\n",
       "       [0.        , 0.5372549 , 0.73137255, 1.        ],\n",
       "       [0.        , 0.54901961, 0.7254902 , 1.        ],\n",
       "       [0.        , 0.55686275, 0.72156863, 1.        ],\n",
       "       [0.        , 0.56862745, 0.71568627, 1.        ],\n",
       "       [0.        , 0.58039216, 0.70980392, 1.        ],\n",
       "       [0.        , 0.58823529, 0.70588235, 1.        ],\n",
       "       [0.        , 0.6       , 0.7       , 1.        ],\n",
       "       [0.        , 0.61176471, 0.69411765, 1.        ],\n",
       "       [0.        , 0.61960784, 0.69019608, 1.        ],\n",
       "       [0.        , 0.63137255, 0.68431373, 1.        ],\n",
       "       [0.        , 0.64313725, 0.67843137, 1.        ],\n",
       "       [0.        , 0.65490196, 0.67254902, 1.        ],\n",
       "       [0.        , 0.6627451 , 0.66862745, 1.        ],\n",
       "       [0.        , 0.6745098 , 0.6627451 , 1.        ],\n",
       "       [0.        , 0.68627451, 0.65686275, 1.        ],\n",
       "       [0.        , 0.69411765, 0.65294118, 1.        ],\n",
       "       [0.        , 0.70588235, 0.64705882, 1.        ],\n",
       "       [0.        , 0.71764706, 0.64117647, 1.        ],\n",
       "       [0.        , 0.7254902 , 0.6372549 , 1.        ],\n",
       "       [0.        , 0.7372549 , 0.63137255, 1.        ],\n",
       "       [0.        , 0.74901961, 0.6254902 , 1.        ],\n",
       "       [0.        , 0.76078431, 0.61960784, 1.        ],\n",
       "       [0.        , 0.76862745, 0.61568627, 1.        ],\n",
       "       [0.        , 0.78039216, 0.60980392, 1.        ],\n",
       "       [0.        , 0.79215686, 0.60392157, 1.        ],\n",
       "       [0.        , 0.8       , 0.6       , 1.        ],\n",
       "       [0.        , 0.81176471, 0.59411765, 1.        ],\n",
       "       [0.        , 0.82352941, 0.58823529, 1.        ],\n",
       "       [0.        , 0.83137255, 0.58431373, 1.        ],\n",
       "       [0.        , 0.84313725, 0.57843137, 1.        ],\n",
       "       [0.        , 0.85490196, 0.57254902, 1.        ],\n",
       "       [0.        , 0.8627451 , 0.56862745, 1.        ],\n",
       "       [0.        , 0.8745098 , 0.5627451 , 1.        ],\n",
       "       [0.        , 0.88627451, 0.55686275, 1.        ],\n",
       "       [0.        , 0.89803922, 0.55098039, 1.        ],\n",
       "       [0.        , 0.90588235, 0.54705882, 1.        ],\n",
       "       [0.        , 0.91764706, 0.54117647, 1.        ],\n",
       "       [0.        , 0.92941176, 0.53529412, 1.        ],\n",
       "       [0.        , 0.9372549 , 0.53137255, 1.        ],\n",
       "       [0.        , 0.94901961, 0.5254902 , 1.        ],\n",
       "       [0.        , 0.96078431, 0.51960784, 1.        ],\n",
       "       [0.        , 0.96862745, 0.51568627, 1.        ],\n",
       "       [0.        , 0.98039216, 0.50980392, 1.        ],\n",
       "       [0.        , 0.99215686, 0.50392157, 1.        ],\n",
       "       [0.        , 1.        , 0.5       , 1.        ],\n",
       "       [1.        , 0.        , 0.        , 1.        ],\n",
       "       [1.        , 0.00392157, 0.        , 1.        ],\n",
       "       [1.        , 0.01176471, 0.        , 1.        ],\n",
       "       [1.        , 0.01960784, 0.        , 1.        ],\n",
       "       [1.        , 0.02745098, 0.        , 1.        ],\n",
       "       [1.        , 0.03137255, 0.        , 1.        ],\n",
       "       [1.        , 0.03921569, 0.        , 1.        ],\n",
       "       [1.        , 0.04705882, 0.        , 1.        ],\n",
       "       [1.        , 0.05490196, 0.        , 1.        ],\n",
       "       [1.        , 0.0627451 , 0.        , 1.        ],\n",
       "       [1.        , 0.06666667, 0.        , 1.        ],\n",
       "       [1.        , 0.0745098 , 0.        , 1.        ],\n",
       "       [1.        , 0.08235294, 0.        , 1.        ],\n",
       "       [1.        , 0.09019608, 0.        , 1.        ],\n",
       "       [1.        , 0.09803922, 0.        , 1.        ],\n",
       "       [1.        , 0.10196078, 0.        , 1.        ],\n",
       "       [1.        , 0.10980392, 0.        , 1.        ],\n",
       "       [1.        , 0.11764706, 0.        , 1.        ],\n",
       "       [1.        , 0.1254902 , 0.        , 1.        ],\n",
       "       [1.        , 0.13333333, 0.        , 1.        ],\n",
       "       [1.        , 0.1372549 , 0.        , 1.        ],\n",
       "       [1.        , 0.14509804, 0.        , 1.        ],\n",
       "       [1.        , 0.15294118, 0.        , 1.        ],\n",
       "       [1.        , 0.16078431, 0.        , 1.        ],\n",
       "       [1.        , 0.16470588, 0.        , 1.        ],\n",
       "       [1.        , 0.17254902, 0.        , 1.        ],\n",
       "       [1.        , 0.18039216, 0.        , 1.        ],\n",
       "       [1.        , 0.18823529, 0.        , 1.        ],\n",
       "       [1.        , 0.19607843, 0.        , 1.        ],\n",
       "       [1.        , 0.2       , 0.        , 1.        ],\n",
       "       [1.        , 0.20784314, 0.        , 1.        ],\n",
       "       [1.        , 0.21568627, 0.        , 1.        ],\n",
       "       [1.        , 0.22352941, 0.        , 1.        ],\n",
       "       [1.        , 0.23137255, 0.        , 1.        ],\n",
       "       [1.        , 0.23529412, 0.        , 1.        ],\n",
       "       [1.        , 0.24313725, 0.        , 1.        ],\n",
       "       [1.        , 0.25098039, 0.        , 1.        ],\n",
       "       [1.        , 0.25882353, 0.        , 1.        ],\n",
       "       [1.        , 0.26666667, 0.        , 1.        ],\n",
       "       [1.        , 0.27058824, 0.        , 1.        ],\n",
       "       [1.        , 0.27843137, 0.        , 1.        ],\n",
       "       [1.        , 0.28627451, 0.        , 1.        ],\n",
       "       [1.        , 0.29411765, 0.        , 1.        ],\n",
       "       [1.        , 0.29803922, 0.        , 1.        ],\n",
       "       [1.        , 0.30588235, 0.        , 1.        ],\n",
       "       [1.        , 0.31372549, 0.        , 1.        ],\n",
       "       [1.        , 0.32156863, 0.        , 1.        ],\n",
       "       [1.        , 0.32941176, 0.        , 1.        ],\n",
       "       [1.        , 0.33333333, 0.        , 1.        ],\n",
       "       [1.        , 0.34117647, 0.        , 1.        ],\n",
       "       [1.        , 0.34901961, 0.        , 1.        ],\n",
       "       [1.        , 0.35686275, 0.        , 1.        ],\n",
       "       [1.        , 0.36470588, 0.        , 1.        ],\n",
       "       [1.        , 0.36862745, 0.        , 1.        ],\n",
       "       [1.        , 0.37647059, 0.        , 1.        ],\n",
       "       [1.        , 0.38431373, 0.        , 1.        ],\n",
       "       [1.        , 0.39215686, 0.        , 1.        ],\n",
       "       [1.        , 0.4       , 0.        , 1.        ],\n",
       "       [1.        , 0.40392157, 0.        , 1.        ],\n",
       "       [1.        , 0.41176471, 0.        , 1.        ],\n",
       "       [1.        , 0.41960784, 0.        , 1.        ],\n",
       "       [1.        , 0.42745098, 0.        , 1.        ],\n",
       "       [1.        , 0.43137255, 0.        , 1.        ],\n",
       "       [1.        , 0.43921569, 0.        , 1.        ],\n",
       "       [1.        , 0.44705882, 0.        , 1.        ],\n",
       "       [1.        , 0.45490196, 0.        , 1.        ],\n",
       "       [1.        , 0.4627451 , 0.        , 1.        ],\n",
       "       [1.        , 0.46666667, 0.        , 1.        ],\n",
       "       [1.        , 0.4745098 , 0.        , 1.        ],\n",
       "       [1.        , 0.48235294, 0.        , 1.        ],\n",
       "       [1.        , 0.49019608, 0.        , 1.        ],\n",
       "       [1.        , 0.49803922, 0.        , 1.        ],\n",
       "       [1.        , 0.50196078, 0.        , 1.        ],\n",
       "       [1.        , 0.50980392, 0.        , 1.        ],\n",
       "       [1.        , 0.51764706, 0.        , 1.        ],\n",
       "       [1.        , 0.5254902 , 0.        , 1.        ],\n",
       "       [1.        , 0.53333333, 0.        , 1.        ],\n",
       "       [1.        , 0.5372549 , 0.        , 1.        ],\n",
       "       [1.        , 0.54509804, 0.        , 1.        ],\n",
       "       [1.        , 0.55294118, 0.        , 1.        ],\n",
       "       [1.        , 0.56078431, 0.        , 1.        ],\n",
       "       [1.        , 0.56862745, 0.        , 1.        ],\n",
       "       [1.        , 0.57254902, 0.        , 1.        ],\n",
       "       [1.        , 0.58039216, 0.        , 1.        ],\n",
       "       [1.        , 0.58823529, 0.        , 1.        ],\n",
       "       [1.        , 0.59607843, 0.        , 1.        ],\n",
       "       [1.        , 0.6       , 0.        , 1.        ],\n",
       "       [1.        , 0.60784314, 0.        , 1.        ],\n",
       "       [1.        , 0.61568627, 0.        , 1.        ],\n",
       "       [1.        , 0.62352941, 0.        , 1.        ],\n",
       "       [1.        , 0.63137255, 0.        , 1.        ],\n",
       "       [1.        , 0.63529412, 0.        , 1.        ],\n",
       "       [1.        , 0.64313725, 0.        , 1.        ],\n",
       "       [1.        , 0.65098039, 0.        , 1.        ],\n",
       "       [1.        , 0.65882353, 0.        , 1.        ],\n",
       "       [1.        , 0.66666667, 0.        , 1.        ],\n",
       "       [1.        , 0.67058824, 0.        , 1.        ],\n",
       "       [1.        , 0.67843137, 0.        , 1.        ],\n",
       "       [1.        , 0.68627451, 0.        , 1.        ],\n",
       "       [1.        , 0.69411765, 0.        , 1.        ],\n",
       "       [1.        , 0.70196078, 0.        , 1.        ],\n",
       "       [1.        , 0.70588235, 0.        , 1.        ],\n",
       "       [1.        , 0.71372549, 0.        , 1.        ],\n",
       "       [1.        , 0.72156863, 0.        , 1.        ],\n",
       "       [1.        , 0.72941176, 0.        , 1.        ],\n",
       "       [1.        , 0.73333333, 0.        , 1.        ],\n",
       "       [1.        , 0.74117647, 0.        , 1.        ],\n",
       "       [1.        , 0.74901961, 0.        , 1.        ],\n",
       "       [1.        , 0.75686275, 0.        , 1.        ],\n",
       "       [1.        , 0.76470588, 0.        , 1.        ],\n",
       "       [1.        , 0.76862745, 0.        , 1.        ],\n",
       "       [1.        , 0.77647059, 0.        , 1.        ],\n",
       "       [1.        , 0.78431373, 0.        , 1.        ],\n",
       "       [1.        , 0.79215686, 0.        , 1.        ],\n",
       "       [1.        , 0.8       , 0.        , 1.        ],\n",
       "       [1.        , 0.80392157, 0.        , 1.        ],\n",
       "       [1.        , 0.81176471, 0.        , 1.        ],\n",
       "       [1.        , 0.81960784, 0.        , 1.        ],\n",
       "       [1.        , 0.82745098, 0.        , 1.        ],\n",
       "       [1.        , 0.83529412, 0.        , 1.        ],\n",
       "       [1.        , 0.83921569, 0.        , 1.        ],\n",
       "       [1.        , 0.84705882, 0.        , 1.        ],\n",
       "       [1.        , 0.85490196, 0.        , 1.        ],\n",
       "       [1.        , 0.8627451 , 0.        , 1.        ],\n",
       "       [1.        , 0.86666667, 0.        , 1.        ],\n",
       "       [1.        , 0.8745098 , 0.        , 1.        ],\n",
       "       [1.        , 0.88235294, 0.        , 1.        ],\n",
       "       [1.        , 0.89019608, 0.        , 1.        ],\n",
       "       [1.        , 0.89803922, 0.        , 1.        ],\n",
       "       [1.        , 0.90196078, 0.        , 1.        ],\n",
       "       [1.        , 0.90980392, 0.        , 1.        ],\n",
       "       [1.        , 0.91764706, 0.        , 1.        ],\n",
       "       [1.        , 0.9254902 , 0.        , 1.        ],\n",
       "       [1.        , 0.93333333, 0.        , 1.        ],\n",
       "       [1.        , 0.9372549 , 0.        , 1.        ],\n",
       "       [1.        , 0.94509804, 0.        , 1.        ],\n",
       "       [1.        , 0.95294118, 0.        , 1.        ],\n",
       "       [1.        , 0.96078431, 0.        , 1.        ],\n",
       "       [1.        , 0.96862745, 0.        , 1.        ],\n",
       "       [1.        , 0.97254902, 0.        , 1.        ],\n",
       "       [1.        , 0.98039216, 0.        , 1.        ],\n",
       "       [1.        , 0.98823529, 0.        , 1.        ],\n",
       "       [1.        , 0.99607843, 0.        , 1.        ],\n",
       "       [1.        , 1.        , 0.        , 1.        ]])"
      ]
     },
     "execution_count": 864,
     "metadata": {},
     "output_type": "execute_result"
    }
   ],
   "source": [
    "custom_cmap"
   ]
  },
  {
   "cell_type": "code",
   "execution_count": 840,
   "id": "51366536",
   "metadata": {},
   "outputs": [
    {
     "data": {
      "text/plain": [
       "96"
      ]
     },
     "execution_count": 840,
     "metadata": {},
     "output_type": "execute_result"
    }
   ],
   "source": [
    "blokus_needed"
   ]
  },
  {
   "cell_type": "code",
   "execution_count": 818,
   "id": "26b45525",
   "metadata": {},
   "outputs": [
    {
     "data": {
      "image/png": "[encoded data removed]",
      "text/plain": [
       "<Figure size 504x504 with 1 Axes>"
      ]
     },
     "metadata": {},
     "output_type": "display_data"
    }
   ],
   "source": [
    "plt.figure(figsize=(7,7), facecolor='white')\n",
    "cmap = mpl.cm.get_cmap(\"binary\").copy()\n",
    "# cmap.set_under('w')\n",
    "im = plt.imshow(np.where(init_mask == 0, 0, 1), cmap=cmap)\n",
    "plt.show()"
   ]
  },
  {
   "cell_type": "code",
   "execution_count": 764,
   "id": "5a289ecc",
   "metadata": {},
   "outputs": [],
   "source": [
    "test_mask = np.array([[0, 0, 2, 2, 2],\n",
    "                      [0, 0, 2, 0, 0],\n",
    "                      [0, 0, 0, 0, 1],\n",
    "                      [0, 0, 1, 1, 1],\n",
    "                      [0, 0, 0, 0, 0]])\n",
    "test_block = np.array([[0, 1, 1], \n",
    "                       [1, 1, 0]])"
   ]
  },
  {
   "cell_type": "code",
   "execution_count": 765,
   "id": "d08b7661",
   "metadata": {},
   "outputs": [
    {
     "name": "stdout",
     "output_type": "stream",
     "text": [
      "UL ind, row: 0, col: 2\n",
      "Overlapping\n"
     ]
    },
    {
     "data": {
      "text/plain": [
       "False"
      ]
     },
     "execution_count": 765,
     "metadata": {},
     "output_type": "execute_result"
    }
   ],
   "source": [
    "valid_block_placement(test_mask, test_block, [0, 2], True)"
   ]
  },
  {
   "cell_type": "code",
   "execution_count": 745,
   "id": "2b8371d0",
   "metadata": {},
   "outputs": [
    {
     "data": {
      "text/plain": [
       "array([[0, 1],\n",
       "       [1, 1]])"
      ]
     },
     "execution_count": 745,
     "metadata": {},
     "output_type": "execute_result"
    }
   ],
   "source": [
    "np.where(test_mask[2:4, 2:4] == 0, 0, 1) & test_block"
   ]
  },
  {
   "cell_type": "code",
   "execution_count": 743,
   "id": "f919db9c",
   "metadata": {},
   "outputs": [
    {
     "data": {
      "text/plain": [
       "False"
      ]
     },
     "execution_count": 743,
     "metadata": {},
     "output_type": "execute_result"
    }
   ],
   "source": [
    "(test_mask[2:4, 2:4] & test_block).astype(bool).any()"
   ]
  },
  {
   "cell_type": "code",
   "execution_count": 602,
   "id": "0276c15e",
   "metadata": {},
   "outputs": [],
   "source": [
    "init_mask[c_ind[0]:c_ind[0]+chosen_block.shape[0], \n",
    "                      c_ind[1]:c_ind[1]+chosen_block.shape[1]] = (block_num+1)*chosen_block"
   ]
  },
  {
   "cell_type": "code",
   "execution_count": 640,
   "id": "bbdef28b",
   "metadata": {},
   "outputs": [],
   "source": [
    "test_block = (~tetris_T.astype(bool)).astype(int)"
   ]
  },
  {
   "cell_type": "code",
   "execution_count": 645,
   "id": "6024b2a5",
   "metadata": {},
   "outputs": [
    {
     "name": "stdout",
     "output_type": "stream",
     "text": [
      "[[0 1 0]\n",
      " [1 1 1]]\n",
      "UL ind, row: 7, col: 5\n",
      "block, row: 0, col: 0\n",
      "Mask 0, Block 0\n",
      "block, row: 0, col: 1\n",
      "block, row: 0, col: 2\n",
      "Mask 1, Block 0\n",
      "block, row: 1, col: 0\n",
      "Mask 0, Block 1\n",
      "block, row: 1, col: 1\n",
      "block, row: 1, col: 2\n",
      "Mask 0, Block 1\n"
     ]
    },
    {
     "data": {
      "text/plain": [
       "False"
      ]
     },
     "execution_count": 645,
     "metadata": {},
     "output_type": "execute_result"
    }
   ],
   "source": [
    "print(test_block)\n",
    "valid_block_placement(init_mask, test_block, [7, 5], True)"
   ]
  },
  {
   "cell_type": "code",
   "execution_count": 646,
   "id": "13227ea4",
   "metadata": {},
   "outputs": [
    {
     "data": {
      "text/plain": [
       "array([[0., 0., 0., 0., 0., 1., 1., 0., 0., 0.],\n",
       "       [2., 2., 0., 0., 0., 0., 1., 1., 0., 0.],\n",
       "       [0., 2., 2., 0., 0., 0., 0., 0., 0., 0.],\n",
       "       [0., 0., 0., 0., 3., 0., 0., 0., 0., 0.],\n",
       "       [0., 0., 0., 0., 3., 3., 3., 0., 0., 0.],\n",
       "       [0., 0., 0., 0., 0., 0., 0., 0., 0., 0.],\n",
       "       [0., 0., 0., 0., 0., 0., 4., 0., 0., 0.],\n",
       "       [0., 0., 0., 0., 0., 0., 4., 4., 0., 0.],\n",
       "       [0., 0., 0., 0., 0., 0., 4., 0., 0., 0.],\n",
       "       [0., 0., 0., 0., 0., 0., 0., 0., 0., 0.]])"
      ]
     },
     "execution_count": 646,
     "metadata": {},
     "output_type": "execute_result"
    }
   ],
   "source": [
    "init_mask"
   ]
  },
  {
   "cell_type": "code",
   "execution_count": 596,
   "id": "ce96baca",
   "metadata": {},
   "outputs": [
    {
     "data": {
      "text/plain": [
       "False"
      ]
     },
     "execution_count": 596,
     "metadata": {},
     "output_type": "execute_result"
    }
   ],
   "source": [
    "test_chosen_block = choose_block(True)\n",
    "c_ind = np.random.randint((np.array(init_mask.shape) - np.array(test_chosen_block.shape) + 1))\n",
    "valid_block_placement(init_mask, test_chosen_block, c_ind)"
   ]
  },
  {
   "cell_type": "code",
   "execution_count": 587,
   "id": "f750bd43",
   "metadata": {},
   "outputs": [
    {
     "name": "stdout",
     "output_type": "stream",
     "text": [
      "(2, 3)\n"
     ]
    },
    {
     "data": {
      "text/plain": [
       "array([9, 8])"
      ]
     },
     "execution_count": 587,
     "metadata": {},
     "output_type": "execute_result"
    }
   ],
   "source": [
    "print(test_chosen_block.shape)\n",
    "np.array(init_mask.shape) - np.array(test_chosen_block.shape) + 1"
   ]
  },
  {
   "cell_type": "code",
   "execution_count": 506,
   "id": "b1ef93d4",
   "metadata": {},
   "outputs": [
    {
     "name": "stdout",
     "output_type": "stream",
     "text": [
      "[0 8]\n"
     ]
    },
    {
     "data": {
      "text/plain": [
       "array([[1, 1, 1],\n",
       "       [0, 1, 0]])"
      ]
     },
     "execution_count": 506,
     "metadata": {},
     "output_type": "execute_result"
    }
   ],
   "source": [
    "print(c_ind)\n",
    "test_chosen_block"
   ]
  },
  {
   "cell_type": "code",
   "execution_count": 504,
   "id": "bb4efbc8",
   "metadata": {},
   "outputs": [
    {
     "ename": "IndexError",
     "evalue": "index 10 is out of bounds for axis 1 with size 10",
     "output_type": "error",
     "traceback": [
      "\u001b[0;31m---------------------------------------------------------------------------\u001b[0m",
      "\u001b[0;31mIndexError\u001b[0m                                Traceback (most recent call last)",
      "Input \u001b[0;32mIn [504]\u001b[0m, in \u001b[0;36m<cell line: 1>\u001b[0;34m()\u001b[0m\n\u001b[0;32m----> 1\u001b[0m \u001b[43mvalid_block_placement\u001b[49m\u001b[43m(\u001b[49m\u001b[43minit_mask\u001b[49m\u001b[43m,\u001b[49m\u001b[43m \u001b[49m\u001b[43mtest_chosen_block\u001b[49m\u001b[43m,\u001b[49m\u001b[43m \u001b[49m\u001b[43mc_ind\u001b[49m\u001b[43m)\u001b[49m\n",
      "Input \u001b[0;32mIn [391]\u001b[0m, in \u001b[0;36mvalid_block_placement\u001b[0;34m(mask, block, ul_corner_ind, vprint)\u001b[0m\n\u001b[1;32m      8\u001b[0m \u001b[38;5;28;01mif\u001b[39;00m vprint:\n\u001b[1;32m      9\u001b[0m     \u001b[38;5;28mprint\u001b[39m(\u001b[38;5;124m'\u001b[39m\u001b[38;5;124mblock, row: \u001b[39m\u001b[38;5;132;01m{}\u001b[39;00m\u001b[38;5;124m, col: \u001b[39m\u001b[38;5;132;01m{}\u001b[39;00m\u001b[38;5;124m'\u001b[39m\u001b[38;5;241m.\u001b[39mformat(row, col))\n\u001b[0;32m---> 10\u001b[0m \u001b[38;5;28;01mif\u001b[39;00m ((\u001b[43mmask\u001b[49m\u001b[43m[\u001b[49m\u001b[43mm_row\u001b[49m\u001b[38;5;241;43m+\u001b[39;49m\u001b[43mrow\u001b[49m\u001b[43m,\u001b[49m\u001b[43m \u001b[49m\u001b[43mm_col\u001b[49m\u001b[38;5;241;43m+\u001b[39;49m\u001b[43mcol\u001b[49m\u001b[43m]\u001b[49m \u001b[38;5;241m!=\u001b[39m \u001b[38;5;241m0\u001b[39m) \u001b[38;5;241m&\u001b[39m (block[row, col] \u001b[38;5;241m==\u001b[39m \u001b[38;5;241m0\u001b[39m)):\n\u001b[1;32m     11\u001b[0m     \u001b[38;5;28;01mif\u001b[39;00m vprint:\n\u001b[1;32m     12\u001b[0m         \u001b[38;5;28mprint\u001b[39m(\u001b[38;5;124m'\u001b[39m\u001b[38;5;124m1\u001b[39m\u001b[38;5;124m'\u001b[39m)\n",
      "\u001b[0;31mIndexError\u001b[0m: index 10 is out of bounds for axis 1 with size 10"
     ]
    }
   ],
   "source": [
    "valid_block_placement(init_mask, test_chosen_block, c_ind)"
   ]
  },
  {
   "cell_type": "code",
   "execution_count": 431,
   "id": "d6e3fa00",
   "metadata": {},
   "outputs": [
    {
     "data": {
      "text/plain": [
       "array([[1, 1, 1, 1]])"
      ]
     },
     "execution_count": 431,
     "metadata": {},
     "output_type": "execute_result"
    }
   ],
   "source": [
    "test_chosen_block"
   ]
  },
  {
   "cell_type": "code",
   "execution_count": 320,
   "id": "f61b86f7",
   "metadata": {},
   "outputs": [
    {
     "data": {
      "text/plain": [
       "array([5, 8])"
      ]
     },
     "execution_count": 320,
     "metadata": {},
     "output_type": "execute_result"
    }
   ],
   "source": [
    "np.array(init_mask.shape) - np.array(cbs) - 1"
   ]
  },
  {
   "cell_type": "code",
   "execution_count": 330,
   "id": "935c15ff",
   "metadata": {},
   "outputs": [
    {
     "data": {
      "image/png": "[encoded data removed]",
      "text/plain": [
       "<Figure size 504x504 with 1 Axes>"
      ]
     },
     "metadata": {
      "needs_background": "light"
     },
     "output_type": "display_data"
    }
   ],
   "source": [
    "plt.figure(figsize=(7,7))\n",
    "cmap = mpl.cm.get_cmap(\"rainbow\").copy()\n",
    "cmap.set_under('w')\n",
    "im = plt.imshow(init_mask, cmap=cmap, vmin=1)\n",
    "plt.show()"
   ]
  },
  {
   "cell_type": "code",
   "execution_count": 236,
   "id": "d26ef560",
   "metadata": {},
   "outputs": [
    {
     "data": {
      "text/plain": [
       "array([7, 0])"
      ]
     },
     "execution_count": 236,
     "metadata": {},
     "output_type": "execute_result"
    }
   ],
   "source": [
    "np.random.randint(np.array(init_mask.shape) - np.array(cbs))"
   ]
  },
  {
   "cell_type": "code",
   "execution_count": 222,
   "id": "489c33a4",
   "metadata": {},
   "outputs": [
    {
     "data": {
      "text/plain": [
       "(2, 3)"
      ]
     },
     "execution_count": 222,
     "metadata": {},
     "output_type": "execute_result"
    }
   ],
   "source": [
    "cbs"
   ]
  },
  {
   "cell_type": "code",
   "execution_count": 213,
   "id": "cafda023",
   "metadata": {},
   "outputs": [
    {
     "name": "stdout",
     "output_type": "stream",
     "text": [
      "0 0\n",
      "0 1\n",
      "1 0\n",
      "1 1\n",
      "2 0\n",
      "2 1\n"
     ]
    }
   ],
   "source": [
    "chosen_block = choose_block(True)\n",
    "\n",
    "for row, col in np.ndindex(chosen_block.shape):\n",
    "    print(row, col)"
   ]
  },
  {
   "cell_type": "code",
   "execution_count": 208,
   "id": "8dede97b",
   "metadata": {},
   "outputs": [],
   "source": [
    "mask_size = 10\n",
    "init_mask = np.zeros((mask_size, mask_size))\n",
    "\n",
    "chosen_block = choose_block(True)\n",
    "cbs = chosen_block.shape # Chosen block shape\n",
    "init_mask[0:0+cbs[0], 0:0+cbs[1]] = chosen_block\n",
    "\n",
    "chosen_block = choose_block(True)\n",
    "cbs = chosen_block.shape # Chosen block shape\n",
    "init_mask[5:5+cbs[0], 5:5+cbs[1]] = 2*chosen_block"
   ]
  },
  {
   "cell_type": "code",
   "execution_count": 209,
   "id": "56f3998c",
   "metadata": {},
   "outputs": [
    {
     "data": {
      "image/png": "[encoded data removed]",
      "text/plain": [
       "<Figure size 432x288 with 1 Axes>"
      ]
     },
     "metadata": {
      "needs_background": "light"
     },
     "output_type": "display_data"
    }
   ],
   "source": [
    "cmap = mpl.cm.get_cmap(\"coolwarm\").copy()\n",
    "cmap.set_under('w')\n",
    "im = plt.imshow(init_mask, cmap=cmap, vmin=1)"
   ]
  },
  {
   "cell_type": "code",
   "execution_count": 182,
   "id": "a7cfac1a",
   "metadata": {},
   "outputs": [
    {
     "data": {
      "text/plain": [
       "array([[2., 2., 2.],\n",
       "       [2., 0., 0.]])"
      ]
     },
     "execution_count": 182,
     "metadata": {},
     "output_type": "execute_result"
    }
   ],
   "source": [
    "init_mask[5:5+cbs[0], 5:5+cbs[1]] "
   ]
  },
  {
   "cell_type": "code",
   "execution_count": 181,
   "id": "c543fc29",
   "metadata": {},
   "outputs": [
    {
     "data": {
      "text/plain": [
       "array([[2, 2, 2],\n",
       "       [2, 0, 0]])"
      ]
     },
     "execution_count": 181,
     "metadata": {},
     "output_type": "execute_result"
    }
   ],
   "source": [
    "2*chosen_block"
   ]
  },
  {
   "cell_type": "code",
   "execution_count": 174,
   "id": "994604fd",
   "metadata": {},
   "outputs": [
    {
     "data": {
      "text/plain": [
       "(1, 4)"
      ]
     },
     "execution_count": 174,
     "metadata": {},
     "output_type": "execute_result"
    }
   ],
   "source": [
    "cbs"
   ]
  },
  {
   "cell_type": "code",
   "execution_count": 177,
   "id": "91231526",
   "metadata": {},
   "outputs": [
    {
     "data": {
      "text/plain": [
       "array([[1., 1., 1., 1.]])"
      ]
     },
     "execution_count": 177,
     "metadata": {},
     "output_type": "execute_result"
    }
   ],
   "source": [
    "init_mask[0:0+cbs[0], 0:0+cbs[1]]"
   ]
  },
  {
   "cell_type": "code",
   "execution_count": 1,
   "id": "17a6223c",
   "metadata": {},
   "outputs": [],
   "source": [
    "from optimize import *"
   ]
  },
  {
   "cell_type": "code",
   "execution_count": 2,
   "id": "54a7de34",
   "metadata": {},
   "outputs": [
    {
     "name": "stdout",
     "output_type": "stream",
     "text": [
      "Saved Initial aperture mask image\n"
     ]
    }
   ],
   "source": [
    "test = OptimizerClass(tetrisify=True, balanced=False, frac_tetris=0.6, open_frac=0.6)"
   ]
  },
  {
   "cell_type": "code",
   "execution_count": 41,
   "id": "a9a4e8c3",
   "metadata": {},
   "outputs": [
    {
     "data": {
      "text/plain": [
       "array([[ 0.,  0., 17., ...,  0.,  0.,  0.],\n",
       "       [ 0.,  0., 17., ...,  0.,  0.,  0.],\n",
       "       [ 0., 17., 17., ...,  7.,  0.,  0.],\n",
       "       ...,\n",
       "       [ 0.,  0.,  0., ...,  2.,  2.,  0.],\n",
       "       [ 0.,  0.,  0., ...,  0.,  2.,  0.],\n",
       "       [ 0.,  0.,  0., ...,  0.,  0.,  0.]])"
      ]
     },
     "execution_count": 41,
     "metadata": {},
     "output_type": "execute_result"
    }
   ],
   "source": [
    "test.mask"
   ]
  },
  {
   "cell_type": "code",
   "execution_count": 38,
   "id": "32f7116d",
   "metadata": {},
   "outputs": [
    {
     "data": {
      "text/plain": [
       "17"
      ]
     },
     "execution_count": 38,
     "metadata": {},
     "output_type": "execute_result"
    }
   ],
   "source": [
    "test.block_assigns[test.mask_tet_el[0][2]]"
   ]
  },
  {
   "cell_type": "code",
   "execution_count": 9,
   "id": "b57bf55e",
   "metadata": {},
   "outputs": [
    {
     "data": {
      "text/plain": [
       "114"
      ]
     },
     "execution_count": 9,
     "metadata": {},
     "output_type": "execute_result"
    }
   ],
   "source": [
    "test.tetris_needed"
   ]
  },
  {
   "cell_type": "code",
   "execution_count": 10,
   "id": "09dc23dd",
   "metadata": {},
   "outputs": [
    {
     "data": {
      "text/plain": [
       "0.59375"
      ]
     },
     "execution_count": 10,
     "metadata": {},
     "output_type": "execute_result"
    }
   ],
   "source": [
    "test.frac_tetris"
   ]
  },
  {
   "cell_type": "code",
   "execution_count": 4,
   "id": "ea9b76ad",
   "metadata": {},
   "outputs": [
    {
     "data": {
      "text/plain": [
       "<matplotlib.image.AxesImage at 0x7f9a18650d90>"
      ]
     },
     "execution_count": 4,
     "metadata": {},
     "output_type": "execute_result"
    },
    {
     "data": {
      "image/png": "[encoded data removed]",
      "text/plain": [
       "<Figure size 432x288 with 1 Axes>"
      ]
     },
     "metadata": {
      "needs_background": "light"
     },
     "output_type": "display_data"
    }
   ],
   "source": [
    "plt.imshow(test.mask_tet_el)"
   ]
  },
  {
   "cell_type": "code",
   "execution_count": 14,
   "id": "bb180929",
   "metadata": {},
   "outputs": [],
   "source": [
    "temp_mask = np.where(test.mask_tet_el == 66, 0, test.mask_tet_el)"
   ]
  },
  {
   "cell_type": "code",
   "execution_count": 15,
   "id": "b6f0c96d",
   "metadata": {},
   "outputs": [
    {
     "data": {
      "text/plain": [
       "<matplotlib.image.AxesImage at 0x7f896b78be20>"
      ]
     },
     "execution_count": 15,
     "metadata": {},
     "output_type": "execute_result"
    },
    {
     "data": {
      "image/png": "[encoded data removed]",
      "text/plain": [
       "<Figure size 432x288 with 1 Axes>"
      ]
     },
     "metadata": {
      "needs_background": "light"
     },
     "output_type": "display_data"
    }
   ],
   "source": [
    "plt.imshow(temp_mask)"
   ]
  },
  {
   "cell_type": "code",
   "execution_count": 14,
   "id": "efdccbad",
   "metadata": {},
   "outputs": [
    {
     "data": {
      "text/plain": [
       "{1: 6,\n",
       " 2: 100,\n",
       " 3: 4,\n",
       " 4: 1,\n",
       " 5: 4,\n",
       " 6: 3,\n",
       " 7: 1,\n",
       " 8: 4,\n",
       " 9: 4,\n",
       " 10: 7,\n",
       " 11: 7,\n",
       " 12: 5,\n",
       " 13: 6,\n",
       " 14: 2,\n",
       " 15: 4,\n",
       " 16: 7,\n",
       " 17: 4,\n",
       " 18: 5,\n",
       " 19: 6,\n",
       " 20: 4,\n",
       " 21: 2,\n",
       " 22: 1,\n",
       " 23: 3,\n",
       " 24: 2,\n",
       " 25: 4,\n",
       " 26: 2,\n",
       " 27: 6,\n",
       " 28: 2,\n",
       " 29: 2,\n",
       " 30: 6,\n",
       " 31: 7,\n",
       " 32: 1,\n",
       " 33: 5,\n",
       " 34: 6,\n",
       " 35: 1,\n",
       " 36: 3,\n",
       " 37: 5,\n",
       " 38: 2,\n",
       " 39: 6,\n",
       " 40: 7,\n",
       " 41: 7,\n",
       " 42: 1,\n",
       " 43: 6,\n",
       " 44: 6,\n",
       " 45: 7,\n",
       " 46: 4,\n",
       " 47: 1,\n",
       " 48: 3,\n",
       " 49: 4,\n",
       " 50: 4,\n",
       " 51: 4,\n",
       " 52: 3,\n",
       " 53: 2,\n",
       " 54: 5,\n",
       " 55: 1,\n",
       " 56: 2,\n",
       " 57: 2,\n",
       " 58: 6,\n",
       " 59: 1,\n",
       " 60: 4,\n",
       " 61: 7,\n",
       " 62: 4,\n",
       " 63: 4,\n",
       " 64: 6,\n",
       " 65: 2,\n",
       " 66: 6,\n",
       " 67: 6,\n",
       " 68: 5,\n",
       " 69: 3,\n",
       " 70: 6,\n",
       " 71: 4,\n",
       " 72: 7,\n",
       " 73: 3,\n",
       " 74: 1,\n",
       " 75: 3,\n",
       " 76: 1,\n",
       " 77: 6,\n",
       " 78: 6,\n",
       " 79: 1,\n",
       " 80: 4,\n",
       " 81: 1,\n",
       " 82: 7,\n",
       " 83: 1,\n",
       " 84: 6,\n",
       " 85: 7,\n",
       " 86: 6,\n",
       " 87: 2,\n",
       " 88: 1,\n",
       " 89: 1,\n",
       " 90: 7,\n",
       " 91: 6,\n",
       " 92: 6,\n",
       " 93: 1,\n",
       " 94: 4,\n",
       " 95: 5,\n",
       " 96: 3,\n",
       " 97: 1,\n",
       " 98: 3,\n",
       " 99: 7,\n",
       " 100: 1,\n",
       " 101: 3,\n",
       " 102: 2,\n",
       " 103: 7,\n",
       " 104: 6,\n",
       " 105: 4,\n",
       " 106: 5,\n",
       " 107: 2,\n",
       " 108: 2,\n",
       " 109: 4,\n",
       " 110: 6,\n",
       " 111: 4,\n",
       " 112: 7,\n",
       " 113: 1,\n",
       " 114: 7,\n",
       " 115: 12,\n",
       " 116: 12,\n",
       " 117: 14,\n",
       " 118: 20,\n",
       " 119: 8,\n",
       " 120: 14,\n",
       " 121: 12,\n",
       " 122: 15,\n",
       " 123: 25,\n",
       " 124: 17,\n",
       " 125: 25,\n",
       " 126: 10,\n",
       " 127: 9,\n",
       " 128: 13,\n",
       " 129: 19,\n",
       " 130: 25,\n",
       " 131: 8,\n",
       " 132: 13,\n",
       " 133: 23,\n",
       " 134: 9,\n",
       " 135: 8,\n",
       " 136: 23,\n",
       " 137: 10,\n",
       " 138: 9,\n",
       " 139: 12,\n",
       " 140: 15,\n",
       " 141: 23,\n",
       " 142: 15,\n",
       " 143: 14,\n",
       " 144: 17,\n",
       " 145: 19,\n",
       " 146: 10,\n",
       " 147: 25,\n",
       " 148: 14,\n",
       " 149: 11,\n",
       " 150: 14,\n",
       " 151: 15,\n",
       " 152: 19,\n",
       " 153: 21,\n",
       " 154: 8,\n",
       " 155: 24,\n",
       " 156: 24,\n",
       " 157: 14,\n",
       " 158: 13,\n",
       " 159: 18,\n",
       " 160: 20,\n",
       " 161: 15,\n",
       " 162: 19,\n",
       " 163: 22,\n",
       " 164: 19,\n",
       " 165: 25,\n",
       " 166: 24,\n",
       " 167: 16,\n",
       " 168: 10,\n",
       " 169: 14,\n",
       " 170: 12,\n",
       " 171: 24,\n",
       " 172: 21,\n",
       " 173: 23,\n",
       " 174: 17,\n",
       " 175: 9,\n",
       " 176: 13,\n",
       " 177: 16,\n",
       " 178: 16,\n",
       " 179: 14,\n",
       " 180: 12,\n",
       " 181: 15,\n",
       " 182: 23,\n",
       " 183: 13,\n",
       " 184: 14,\n",
       " 185: 14,\n",
       " 186: 12,\n",
       " 187: 23,\n",
       " 188: 20,\n",
       " 189: 12,\n",
       " 190: 20,\n",
       " 191: 17,\n",
       " 192: 8}"
      ]
     },
     "execution_count": 14,
     "metadata": {},
     "output_type": "execute_result"
    }
   ],
   "source": [
    "test.block_assigns"
   ]
  },
  {
   "cell_type": "code",
   "execution_count": 13,
   "id": "1b55324f",
   "metadata": {},
   "outputs": [],
   "source": [
    "test.block_assigns[2] = 100"
   ]
  },
  {
   "cell_type": "code",
   "execution_count": 31,
   "id": "1511b546",
   "metadata": {},
   "outputs": [
    {
     "data": {
      "text/plain": [
       "25"
      ]
     },
     "execution_count": 31,
     "metadata": {},
     "output_type": "execute_result"
    }
   ],
   "source": [
    "max(np.array(list(test.block_assigns.items()))[:,1])"
   ]
  },
  {
   "cell_type": "code",
   "execution_count": 11,
   "id": "700069db",
   "metadata": {},
   "outputs": [
    {
     "data": {
      "text/plain": [
       "240"
      ]
     },
     "execution_count": 11,
     "metadata": {},
     "output_type": "execute_result"
    }
   ],
   "source": [
    "list(test.block_assigns.keys())[-1]"
   ]
  },
  {
   "cell_type": "code",
   "execution_count": 22,
   "id": "40896f53",
   "metadata": {},
   "outputs": [],
   "source": [
    "block_ind_rem = np.random.randint(1, list(test.block_assigns.keys())[-1]+1) \n",
    "temp_mask = np.where(test.mask_tet_el == block_ind_rem, 0, test.mask_tet_el)\n",
    "block_rem = total_blocks[test.block_assigns[block_ind_rem]-1] # only care about if not floating block types"
   ]
  },
  {
   "cell_type": "code",
   "execution_count": 23,
   "id": "65396e90",
   "metadata": {},
   "outputs": [
    {
     "data": {
      "text/plain": [
       "<matplotlib.image.AxesImage at 0x7fefd2ab1bb0>"
      ]
     },
     "execution_count": 23,
     "metadata": {},
     "output_type": "execute_result"
    },
    {
     "data": {
      "image/png": "[encoded data removed]",
      "text/plain": [
       "<Figure size 432x288 with 1 Axes>"
      ]
     },
     "metadata": {
      "needs_background": "light"
     },
     "output_type": "display_data"
    }
   ],
   "source": [
    "plt.imshow(test.mask_tet_el-temp_mask)"
   ]
  },
  {
   "cell_type": "code",
   "execution_count": 35,
   "id": "ba86a2f2",
   "metadata": {},
   "outputs": [
    {
     "name": "stdout",
     "output_type": "stream",
     "text": [
      "14.0\n",
      "14.0\n",
      "14.0\n",
      "14.0\n",
      "14.0\n"
     ]
    }
   ],
   "source": [
    "for ind in np.argwhere(test.mask_tet_el == block_ind_rem):\n",
    "    print(test.mask[ind[0], ind[1]])"
   ]
  },
  {
   "cell_type": "code",
   "execution_count": 18,
   "id": "183a2c5b",
   "metadata": {},
   "outputs": [
    {
     "data": {
      "text/plain": [
       "0"
      ]
     },
     "execution_count": 18,
     "metadata": {},
     "output_type": "execute_result"
    }
   ],
   "source": [
    "test.block_assigns[100]-1"
   ]
  },
  {
   "cell_type": "code",
   "execution_count": 17,
   "id": "16d04409",
   "metadata": {},
   "outputs": [
    {
     "data": {
      "text/plain": [
       "array([[0, 0, 0, 0]])"
      ]
     },
     "execution_count": 17,
     "metadata": {},
     "output_type": "execute_result"
    }
   ],
   "source": [
    "total_blocks[test.block_assigns[100]-1]"
   ]
  },
  {
   "cell_type": "code",
   "execution_count": 14,
   "id": "3293f2d4",
   "metadata": {},
   "outputs": [
    {
     "data": {
      "text/plain": [
       "array([[1, 1, 0],\n",
       "       [0, 0, 0]])"
      ]
     },
     "execution_count": 14,
     "metadata": {},
     "output_type": "execute_result"
    }
   ],
   "source": [
    "test.total_blocks[test.block_assigns[100]-1]"
   ]
  },
  {
   "cell_type": "code",
   "execution_count": 29,
   "id": "acbd49eb",
   "metadata": {},
   "outputs": [
    {
     "data": {
      "text/plain": [
       "131"
      ]
     },
     "execution_count": 29,
     "metadata": {},
     "output_type": "execute_result"
    }
   ],
   "source": [
    "block_ind_rem"
   ]
  },
  {
   "cell_type": "code",
   "execution_count": 12,
   "id": "85d049af",
   "metadata": {},
   "outputs": [
    {
     "data": {
      "text/plain": [
       "5"
      ]
     },
     "execution_count": 12,
     "metadata": {},
     "output_type": "execute_result"
    }
   ],
   "source": [
    "4 + int(test.block_assigns[block_swap_ind]-1 > 6)"
   ]
  },
  {
   "cell_type": "code",
   "execution_count": 12,
   "id": "9ec126b6",
   "metadata": {},
   "outputs": [],
   "source": [
    "testing_mask = test.mask_tet_el.copy()"
   ]
  },
  {
   "cell_type": "code",
   "execution_count": 3,
   "id": "0591bacb",
   "metadata": {},
   "outputs": [],
   "source": [
    "def swap_tetris(test):\n",
    "    # test is the replacement for self for now\n",
    "    block_swap_ind = np.random.randint(1, list(test.block_assigns.keys())[-1]+1) \n",
    "    temp_mask = np.where(test.mask == block_swap_ind, 0, test.mask)\n",
    "#     temp_mask = test.mask.copy()\n",
    "#     for swap_ind in np.argwhere(test.mask_tet_el == block_swap_ind):\n",
    "#         temp_mask[swap_ind[0], swap_ind[1]] = 0\n",
    "    \n",
    "    block_size = 4 + int(test.block_assigns[block_swap_ind]-1 > 6)\n",
    "    if test.static_blocks:\n",
    "        block_2_place = (~(test.total_blocks[test.block_assigns[block_swap_ind]-1]).astype(bool)).astype(int)\n",
    "        block_ind = test.block_assigns[block_swap_ind]-1\n",
    "    \n",
    "    block_needed = True\n",
    "    while block_needed:\n",
    "        if test.static_blocks:\n",
    "            block_2_place = np.rot90(block_2_place, np.random.randint(4))\n",
    "        else:\n",
    "            block_2_place, block_ind = test.choose_block(block_size, True)\n",
    "        c_ind = np.random.randint((np.array(temp_mask.shape) - np.array(block_2_place.shape) + 1))\n",
    "        if test.valid_block_placement(temp_mask, block_2_place, c_ind):\n",
    "            for row, col in np.ndindex(block_2_place.shape):\n",
    "                if block_2_place[row, col] == 1:\n",
    "#                     temp_mask[c_ind[0]+row, c_ind[1]+col] = block_ind+1\n",
    "                    temp_mask[c_ind[0]+row, c_ind[1]+col] = block_swap_ind\n",
    "#                     block_assigns[block_num+1] = block_ind+1\n",
    "            block_needed = False\n",
    "    \n",
    "    return temp_mask.copy(), block_swap_ind, block_ind"
   ]
  },
  {
   "cell_type": "code",
   "execution_count": 7,
   "id": "fbfa6cf5",
   "metadata": {},
   "outputs": [],
   "source": [
    "temp_mask, bsi, bi = swap_tetris(test)"
   ]
  },
  {
   "cell_type": "code",
   "execution_count": 5,
   "id": "169f2b6f",
   "metadata": {},
   "outputs": [
    {
     "data": {
      "text/plain": [
       "24"
      ]
     },
     "execution_count": 5,
     "metadata": {},
     "output_type": "execute_result"
    }
   ],
   "source": [
    "bsi"
   ]
  },
  {
   "cell_type": "code",
   "execution_count": 37,
   "id": "9b63adc1",
   "metadata": {},
   "outputs": [
    {
     "data": {
      "text/plain": [
       "[Text(1, -126.0, 'Block Removed'),\n",
       " Text(1, 0.0, 'No Change'),\n",
       " Text(1, 126.0, 'Block Added')]"
      ]
     },
     "execution_count": 37,
     "metadata": {},
     "output_type": "execute_result"
    },
    {
     "data": {
      "image/png": "[encoded data removed]",
      "text/plain": [
       "<Figure size 504x504 with 2 Axes>"
      ]
     },
     "metadata": {},
     "output_type": "display_data"
    }
   ],
   "source": [
    "test.static_blocks = False\n",
    "temp_mask, bsi, bi = swap_tetris(test)\n",
    "\n",
    "plt.figure(figsize=(7, 7), facecolor='white')\n",
    "cmap = plt.cm.get_cmap('coolwarm_r', 3)\n",
    "plt.imshow(temp_mask-test.mask, cmap)\n",
    "cbar = plt.colorbar(ticks=(np.min(temp_mask-test.mask), 0, np.max(temp_mask-test.mask)))\n",
    "cbar.ax.set_yticklabels(['Block Removed', 'No Change', 'Block Added'])"
   ]
  },
  {
   "cell_type": "code",
   "execution_count": 53,
   "id": "59e1deef",
   "metadata": {},
   "outputs": [
    {
     "data": {
      "text/plain": [
       "array([[ 0.,  0., 17., ...,  0.,  0.,  0.],\n",
       "       [ 0.,  0., 17., ...,  0.,  0.,  0.],\n",
       "       [ 0., 17., 17., ...,  7.,  0.,  0.],\n",
       "       ...,\n",
       "       [ 0.,  0.,  0., ...,  2.,  2.,  0.],\n",
       "       [ 0.,  0.,  0., ...,  0.,  2.,  0.],\n",
       "       [ 0.,  0.,  0., ...,  0.,  0.,  0.]])"
      ]
     },
     "execution_count": 53,
     "metadata": {},
     "output_type": "execute_result"
    }
   ],
   "source": [
    "test.mask"
   ]
  },
  {
   "cell_type": "code",
   "execution_count": 54,
   "id": "ce1b6991",
   "metadata": {},
   "outputs": [
    {
     "data": {
      "text/plain": [
       "array([[ 0.,  0., 17., ...,  0.,  0.,  0.],\n",
       "       [ 0.,  0., 17., ...,  0.,  0.,  0.],\n",
       "       [ 0., 17., 17., ...,  7.,  0.,  0.],\n",
       "       ...,\n",
       "       [ 0.,  0.,  0., ...,  2.,  2.,  0.],\n",
       "       [ 0.,  0.,  0., ...,  0.,  2.,  0.],\n",
       "       [ 0.,  0.,  0., ...,  0.,  0.,  0.]])"
      ]
     },
     "execution_count": 54,
     "metadata": {},
     "output_type": "execute_result"
    }
   ],
   "source": [
    "temp_mask"
   ]
  },
  {
   "cell_type": "code",
   "execution_count": 39,
   "id": "abaee564",
   "metadata": {},
   "outputs": [],
   "source": [
    "np.save('test_block_assigns.npy', test.block_assigns)"
   ]
  },
  {
   "cell_type": "code",
   "execution_count": 48,
   "id": "fd873a3e",
   "metadata": {},
   "outputs": [],
   "source": [
    "tem = np.load('test_block_assigns.npy', allow_pickle=True).item()"
   ]
  },
  {
   "cell_type": "code",
   "execution_count": 50,
   "id": "04506b5e",
   "metadata": {},
   "outputs": [
    {
     "data": {
      "text/plain": [
       "0"
      ]
     },
     "execution_count": 50,
     "metadata": {},
     "output_type": "execute_result"
    }
   ],
   "source": [
    "tem[0]"
   ]
  },
  {
   "cell_type": "code",
   "execution_count": 7,
   "id": "ca8d225f",
   "metadata": {},
   "outputs": [],
   "source": [
    "test.static_blocks = False"
   ]
  },
  {
   "cell_type": "code",
   "execution_count": 8,
   "id": "7b53010f",
   "metadata": {},
   "outputs": [],
   "source": [
    "new_mask, i1, i2 = test.swap_tetris()"
   ]
  },
  {
   "cell_type": "code",
   "execution_count": 9,
   "id": "01110570",
   "metadata": {},
   "outputs": [],
   "source": [
    "test.block_assigns[i1] = i2+1"
   ]
  },
  {
   "cell_type": "code",
   "execution_count": 10,
   "id": "90406451",
   "metadata": {},
   "outputs": [],
   "source": [
    "test.VisualizeTetrisMask(new_mask, 'test_swap_2')"
   ]
  },
  {
   "cell_type": "code",
   "execution_count": 70,
   "id": "0bdc9850",
   "metadata": {},
   "outputs": [
    {
     "data": {
      "text/plain": [
       "array([[ 1,  9],\n",
       "       [ 2, 11],\n",
       "       [ 3,  9],\n",
       "       [ 4,  9],\n",
       "       [ 5,  8],\n",
       "       [ 6,  7],\n",
       "       [ 7,  8],\n",
       "       [ 8,  5],\n",
       "       [ 9,  4],\n",
       "       [10,  2],\n",
       "       [11,  0],\n",
       "       [12,  3],\n",
       "       [13,  2],\n",
       "       [14,  3],\n",
       "       [15,  5],\n",
       "       [16,  0],\n",
       "       [17,  3],\n",
       "       [18,  1],\n",
       "       [19,  2],\n",
       "       [20,  4],\n",
       "       [21,  1],\n",
       "       [22,  4],\n",
       "       [23,  0],\n",
       "       [24,  2],\n",
       "       [25,  1]])"
      ]
     },
     "execution_count": 70,
     "metadata": {},
     "output_type": "execute_result"
    }
   ],
   "source": [
    "np.array([[b, list(test.block_assigns.values()).count(b)] for b in range(1, len(test.total_blocks)+1)])"
   ]
  },
  {
   "cell_type": "code",
   "execution_count": 35,
   "id": "93678233",
   "metadata": {},
   "outputs": [],
   "source": [
    "order_blocks = np.array([\n",
    "    [0, 0, 0, 0, 0, 0, 0, 0, 0, 0, 0, 0, 0, 0, 0, 0, 0, 0, 0, 0, 0, 0, 0, 0, 0, 0, 0, 0, 0, 0],\n",
    "    [0, 0, 0, 0, 0, 0, 0, 0, 0, 0, 0, 0, 0, 0, 0, 0, 0, 0, 0, 0, 0, 0, 0, 0, 0, 0, 0, 0, 0, 0],\n",
    "    [0, 0, 0, 0, 0, 0, 1, 0, 0, 0, 0, 0, 0, 0, 0, 0, 0, 0, 0, 0, 0, 0, 0, 0, 0, 0, 0, 0, 0, 0],\n",
    "    [0, 0, 0, 0, 0, 0, 1, 0, 0, 0, 2, 0, 0, 6, 0, 0, 0, 0, 0, 0, 0, 0, 0, 0, 0, 0, 0, 0, 0, 0],\n",
    "    [0, 0, 0, 0, 0, 0, 1, 0, 0, 0, 2, 0, 0, 6, 6, 0, 0, 4, 4, 0, 0, 5, 5, 0, 0, 0, 0, 0, 0, 0],\n",
    "    [0, 0, 0, 0, 0, 0, 1, 0, 0, 2, 2, 0, 0, 6, 0, 0, 0, 4, 4, 0, 0, 0, 5, 5, 0, 0, 0, 0, 0, 0],\n",
    "    [0, 0, 0, 0, 0, 0, 0, 0, 0, 0, 0, 0, 0, 0, 0, 0, 0, 0, 0, 0, 0, 0, 0, 0, 0, 0, 0, 0, 0, 0],\n",
    "    [0, 0, 0, 0, 0, 0, 0, 0, 0, 0, 0, 0, 0, 0, 0, 0, 0, 0, 0, 0, 0, 0, 0, 0, 0, 0, 0, 0, 0, 0],\n",
    "    [0, 0, 9, 0, 0, 0, 0, 0, 0, 0, 0, 0, 0, 0, 0, 0, 0, 0, 0, 0, 0, 0, 0, 0, 0, 0, 0, 0, 0, 0],\n",
    "    [0, 0, 9, 0, 0, 0,13, 0, 0, 0,24, 0, 0, 0, 0, 0, 0, 0, 0, 0, 0,14, 0, 0, 0, 0, 0, 0, 0, 0],\n",
    "    [0, 0, 9, 0, 0, 0,13, 0, 0, 0,24, 0, 0,19, 0, 0, 0, 8, 8, 0, 0,14,14, 0, 0, 0,21, 0, 0, 0],\n",
    "    [0, 0, 9, 0, 0, 0,13, 0, 0,24,24, 0, 0,19,19, 0, 0, 0, 8, 0, 0,14, 0, 0, 0, 0,21, 0, 0, 0],\n",
    "    [0, 0, 9, 0, 0,13,13, 0, 0,24, 0, 0, 0,19,19, 0, 0, 8, 8, 0, 0,14, 0, 0, 0,21,21,21, 0, 0],\n",
    "    [0, 0, 0, 0, 0, 0, 0, 0, 0, 0, 0, 0, 0, 0, 0, 0, 0, 0, 0, 0, 0, 0, 0, 0, 0, 0, 0, 0, 0, 0],\n",
    "    [0, 0, 0, 0, 0, 0, 0, 0, 0, 0, 0, 0, 0, 0, 0, 0, 0, 0, 0, 0, 0, 0, 0, 0, 0, 0, 0, 0, 0, 0],\n",
    "    [0, 0, 0, 0,10, 0, 0, 0, 0,18,18, 0, 0, 0,16, 0, 0, 0, 0,22, 0, 0, 0, 0, 0,11, 0, 0, 0, 0],\n",
    "    [0, 0, 0, 0,10, 0, 0, 0, 0, 0,18,18, 0, 0,16,16,16, 0, 0,22,22,22, 0, 0,11,11,11, 0, 0, 0],\n",
    "    [0, 0, 0, 0,10,10,10, 0, 0, 0, 0,18, 0, 0, 0, 0,16, 0, 0, 0,22, 0, 0, 0, 0,11, 0, 0, 0, 0],\n",
    "    [0, 0, 0, 0, 0, 0, 0, 0, 0, 0, 0, 0, 0, 0, 0, 0, 0, 0, 0, 0, 0, 0, 0, 0, 0, 0, 0, 0, 0, 0]\n",
    "    ])\n",
    "\n",
    "order_3d = np.ndarray(shape=(order_blocks.shape[0], order_blocks.shape[1], 3), dtype=int)\n",
    "for i in range(order_blocks.shape[0]):\n",
    "    for j in range(order_blocks.shape[1]):\n",
    "        order_3d[i][j] = test.block_colors[order_blocks[i][j]]"
   ]
  },
  {
   "cell_type": "code",
   "execution_count": 66,
   "id": "e5876883",
   "metadata": {},
   "outputs": [],
   "source": [
    "text_place = {1: [6, 0.75], 2: [9.5, 0.75], 6: [13.5, 0.75], 4: [17.5, 0.75], 5: [22, 0.75],\n",
    "              9: [2, 6.75], 13: [5.5, 6.75], 24: [9.5, 6.75], 19: [13.5, 6.75],\n",
    "              8: [17.5, 6.75], 14: [21.5, 6.75], 21: [26, 6.75],\n",
    "              10: [5, 13.75], 18: [10, 13.75], 16: [15, 13.75], 22: [20, 13.75], 11: [25, 13.75]}"
   ]
  },
  {
   "cell_type": "code",
   "execution_count": 83,
   "id": "a796b684",
   "metadata": {},
   "outputs": [],
   "source": [
    "block_quan = {b:list(test.block_assigns.values()).count(b) for b in range(1,len(test.total_blocks)+1)}\n",
    "\n",
    "# Summing mirror blocks\n",
    "block_mirrors = ([5, 7], [12, 13], [14, 15], [16, 17], [19, 20], [22, 23], [24, 25])\n",
    "for bm in block_mirrors:\n",
    "    block_quan[bm[0]] += block_quan[bm[1]]"
   ]
  },
  {
   "cell_type": "code",
   "execution_count": 85,
   "id": "6f6c2681",
   "metadata": {},
   "outputs": [
    {
     "data": {
      "image/png": "[encoded data removed]",
      "text/plain": [
       "<Figure size 2400x2000 with 1 Axes>"
      ]
     },
     "metadata": {},
     "output_type": "display_data"
    }
   ],
   "source": [
    "num = 100\n",
    "\n",
    "plt.figure(figsize=(12,10), facecolor='white', dpi=200)\n",
    "ax = plt.gca()\n",
    "plt.imshow(order_3d)\n",
    "ax.axis('off')\n",
    "for key in text_place:\n",
    "    ax.text(text_place[key][0], text_place[key][1], 'x{}'.format(block_quan[key]), va='center', ha='center', weight='bold',\n",
    "            bbox=dict(facecolor='white', alpha=0.95, edgecolor='black', boxstyle='round,pad=0.75'))\n",
    "plt.title('Quantity of each block to order', fontsize=18, weight='bold')\n",
    "plt.show()"
   ]
  },
  {
   "cell_type": "code",
   "execution_count": null,
   "id": "6139f81e",
   "metadata": {},
   "outputs": [],
   "source": [
    "ax.text(2.5, 6, str(int(c)), va='center', ha='center') #, fontsize=(46*5)/mask_size)"
   ]
  },
  {
   "cell_type": "code",
   "execution_count": 55,
   "id": "53e9df7b",
   "metadata": {},
   "outputs": [
    {
     "data": {
      "text/plain": [
       "array([[ 8,  2],\n",
       "       [ 9,  2],\n",
       "       [10,  2],\n",
       "       [11,  2],\n",
       "       [12,  2]])"
      ]
     },
     "execution_count": 55,
     "metadata": {},
     "output_type": "execute_result"
    }
   ],
   "source": [
    "np.argwhere(order_blocks==9)"
   ]
  },
  {
   "cell_type": "code",
   "execution_count": 1,
   "id": "70787292",
   "metadata": {},
   "outputs": [
    {
     "ename": "NameError",
     "evalue": "name 'OptimizerClass' is not defined",
     "output_type": "error",
     "traceback": [
      "\u001b[0;31m---------------------------------------------------------------------------\u001b[0m",
      "\u001b[0;31mNameError\u001b[0m                                 Traceback (most recent call last)",
      "Input \u001b[0;32mIn [1]\u001b[0m, in \u001b[0;36m<cell line: 1>\u001b[0;34m()\u001b[0m\n\u001b[0;32m----> 1\u001b[0m test \u001b[38;5;241m=\u001b[39m \u001b[43mOptimizerClass\u001b[49m(tetrisify\u001b[38;5;241m=\u001b[39m\u001b[38;5;28;01mTrue\u001b[39;00m, balanced\u001b[38;5;241m=\u001b[39m\u001b[38;5;28;01mFalse\u001b[39;00m, frac_tetris\u001b[38;5;241m=\u001b[39m\u001b[38;5;241m0.6\u001b[39m, open_frac\u001b[38;5;241m=\u001b[39m\u001b[38;5;241m0.5\u001b[39m)\n",
      "\u001b[0;31mNameError\u001b[0m: name 'OptimizerClass' is not defined"
     ]
    }
   ],
   "source": [
    "test = OptimizerClass(tetrisify=True, balanced=False, frac_tetris=0.6, open_frac=0.5)"
   ]
  },
  {
   "cell_type": "code",
   "execution_count": 108,
   "id": "88522a4f",
   "metadata": {},
   "outputs": [
    {
     "data": {
      "text/plain": [
       "0.5916666666666667"
      ]
     },
     "execution_count": 108,
     "metadata": {},
     "output_type": "execute_result"
    }
   ],
   "source": [
    "test.frac_tetris"
   ]
  },
  {
   "cell_type": "code",
   "execution_count": 2,
   "id": "1198510f",
   "metadata": {},
   "outputs": [],
   "source": [
    "from optimize import *"
   ]
  },
  {
   "cell_type": "code",
   "execution_count": 17,
   "id": "0bb5c8eb",
   "metadata": {},
   "outputs": [],
   "source": [
    "test = OptimizerClass(tetrisify=True, balanced=False, frac_tetris=0.6, seed=1,\n",
    "                      open_frac=0.5, stopItr=1, mask_size=30, label_blocks=True)"
   ]
  },
  {
   "cell_type": "code",
   "execution_count": 19,
   "id": "569543ea",
   "metadata": {},
   "outputs": [],
   "source": [
    "test_b = np.array(list(test.block_assigns.values()))"
   ]
  },
  {
   "cell_type": "code",
   "execution_count": 20,
   "id": "003a23dc",
   "metadata": {},
   "outputs": [
    {
     "data": {
      "text/plain": [
       "array([ 0,  6,  2,  1,  6,  3,  5,  6,  2,  7,  1,  1,  3,  4,  2,  2,  5,\n",
       "        2,  3,  6,  2,  2,  1,  5,  5,  6,  4,  6,  3,  2,  1,  3,  3,  2,\n",
       "        3,  7,  3,  3,  2,  4,  4,  6,  2,  1,  4,  7,  6,  5,  6,  5,  4,\n",
       "        4,  1,  2,  5,  7,  1,  4,  5,  2,  1, 15, 24, 17, 21, 24, 19, 24,\n",
       "       22, 11, 12, 15,  8, 20, 20, 15, 21, 25, 19, 10,  8, 12,  9, 18, 19,\n",
       "       20, 20, 22, 15,  8, 22,  9, 16, 17, 14, 15, 17, 17, 22,  9, 14, 10,\n",
       "       23])"
      ]
     },
     "execution_count": 20,
     "metadata": {},
     "output_type": "execute_result"
    }
   ],
   "source": [
    "test_b"
   ]
  },
  {
   "cell_type": "code",
   "execution_count": 21,
   "id": "7d211506",
   "metadata": {},
   "outputs": [
    {
     "name": "stdout",
     "output_type": "stream",
     "text": [
      "\u001b[32mImprovement on itr: 1\u001b[0m\n",
      "----------------------------------\n",
      "\u001b[32mImprovement on itr: 2\u001b[0m\n",
      "----------------------------------\n",
      "\u001b[32mImprovement on itr: 3\u001b[0m\n",
      "----------------------------------\n",
      "\u001b[32mImprovement on itr: 4\u001b[0m\n",
      "----------------------------------\n",
      "\u001b[32mImprovement on itr: 5\u001b[0m\n",
      "----------------------------------\n",
      "\u001b[32mImprovement on itr: 6\u001b[0m\n",
      "----------------------------------\n",
      "\u001b[32mImprovement on itr: 7\u001b[0m\n",
      "----------------------------------\n",
      "\u001b[32mImprovement on itr: 8\u001b[0m\n",
      "----------------------------------\n",
      "\u001b[32mImprovement on itr: 9\u001b[0m\n",
      "----------------------------------\n",
      "\u001b[32mImprovement on itr: 10\u001b[0m\n",
      "----------------------------------\n",
      "\u001b[32mImprovement on itr: 11\u001b[0m\n",
      "----------------------------------\n",
      "\u001b[32mImprovement on itr: 12\u001b[0m\n",
      "----------------------------------\n",
      "\u001b[32mImprovement on itr: 13\u001b[0m\n",
      "----------------------------------\n",
      "\u001b[32mImprovement on itr: 14\u001b[0m\n",
      "----------------------------------\n",
      "\u001b[32mImprovement on itr: 15\u001b[0m\n",
      "----------------------------------\n",
      "\u001b[32mImprovement on itr: 16\u001b[0m\n",
      "----------------------------------\n",
      "\u001b[32mImprovement on itr: 17\u001b[0m\n",
      "----------------------------------\n",
      "\u001b[32mImprovement on itr: 18\u001b[0m\n",
      "----------------------------------\n",
      "\u001b[32mImprovement on itr: 19\u001b[0m\n",
      "----------------------------------\n",
      "\u001b[32mImprovement on itr: 20\u001b[0m\n",
      "----------------------------------\n",
      "\u001b[31mNo improvement on itr: 21\n",
      "It has been 1 iterations with no improvement\u001b[0m\n",
      "----------------------------------\n",
      "Saved the final water level evolution plot\n",
      "Saved the final metrics evolution plot\n"
     ]
    }
   ],
   "source": [
    "test.GreatDeluge()"
   ]
  },
  {
   "cell_type": "code",
   "execution_count": 22,
   "id": "86d52529",
   "metadata": {},
   "outputs": [],
   "source": [
    "test_b2 = np.array(list(test.block_assigns.values()))"
   ]
  },
  {
   "cell_type": "code",
   "execution_count": 23,
   "id": "e8565352",
   "metadata": {},
   "outputs": [
    {
     "data": {
      "text/plain": [
       "array([ 0,  6,  2,  1,  6,  3,  5,  6,  2,  7,  1,  1,  3,  4,  2,  2,  5,\n",
       "        2,  3,  6,  2,  2,  1,  5,  5,  6,  4,  6,  3,  2,  1,  3,  3,  2,\n",
       "        3,  7,  3,  3,  2,  4,  4,  6,  2,  1,  4,  7,  6,  5,  6,  5,  4,\n",
       "        4,  1,  2,  5,  7,  1,  4,  5,  2,  1, 15, 24, 17, 21, 24, 19, 24,\n",
       "       22, 11, 12, 15,  8, 20, 20, 15, 21, 25, 19, 10,  8, 12,  9, 18, 19,\n",
       "       20, 20, 22, 15,  8, 22,  9, 16, 17, 14, 15, 17, 17, 22,  9, 14, 10,\n",
       "       23])"
      ]
     },
     "execution_count": 23,
     "metadata": {},
     "output_type": "execute_result"
    }
   ],
   "source": [
    "test_b"
   ]
  },
  {
   "cell_type": "code",
   "execution_count": 24,
   "id": "7cb56736",
   "metadata": {},
   "outputs": [
    {
     "data": {
      "text/plain": [
       "array([ 0,  6,  2,  1,  6,  3,  5,  6,  2,  7,  1,  1,  7,  4,  2,  2,  5,\n",
       "        2,  3,  4,  6,  3,  1,  5,  5,  6,  4,  6,  3,  2,  1,  3,  3,  2,\n",
       "        4,  7,  3,  3,  7,  5,  4,  6,  2,  1,  4,  7,  3,  5,  1,  5,  4,\n",
       "        4,  1,  2,  5,  7,  7,  4,  7,  2,  1, 13, 24, 17,  8, 24, 19,  8,\n",
       "       22,  2, 12, 15,  8, 20, 20, 15, 21, 25, 19, 10,  8, 12,  9, 18, 13,\n",
       "       20, 20, 22, 15,  8, 22,  9, 15,  9, 14, 15, 17, 17, 22,  9, 14, 12,\n",
       "       14])"
      ]
     },
     "execution_count": 24,
     "metadata": {},
     "output_type": "execute_result"
    }
   ],
   "source": [
    "test_b2"
   ]
  },
  {
   "cell_type": "code",
   "execution_count": 12,
   "id": "debc35cd",
   "metadata": {},
   "outputs": [
    {
     "data": {
      "text/plain": [
       "array([ 0,  6,  5,  4,  2,  7,  6,  5,  6,  1,  6,  5,  2,  1,  4,  5,  6,\n",
       "        2,  1,  7,  4,  1,  2,  4,  2,  3,  3,  6,  5,  4,  2,  6,  3,  2,\n",
       "        7,  1,  2,  1,  7,  1,  7,  5,  4,  4,  2,  2,  7,  2,  6,  2,  3,\n",
       "        3,  5,  4,  2,  5,  3,  3,  7,  3,  1, 22, 15, 25, 18, 16, 10, 13,\n",
       "       12, 14, 23, 13,  7, 23, 18, 15, 23, 14,  8, 15, 12, 11, 23, 23,  9,\n",
       "       10, 20, 23,  5, 22,  9, 18,  8, 15, 23,  8, 10, 17, 23, 23, 10, 17,\n",
       "       15])"
      ]
     },
     "execution_count": 12,
     "metadata": {},
     "output_type": "execute_result"
    }
   ],
   "source": [
    "np.array(list(test.min_block_assigns.values()))"
   ]
  },
  {
   "cell_type": "code",
   "execution_count": 13,
   "id": "890c3ad7",
   "metadata": {},
   "outputs": [
    {
     "data": {
      "text/plain": [
       "array([ 0,  6,  5,  7,  2,  7,  6,  5,  6,  5,  5,  5,  7,  2,  4,  5,  6,\n",
       "        2,  5,  7,  4,  1,  4,  4,  2,  3,  3,  5,  5,  6,  2,  6,  3,  1,\n",
       "        7,  1,  4,  1,  6,  1,  7,  5,  4,  7,  2,  2,  7,  6,  6,  2,  3,\n",
       "        3,  5,  4,  2,  5,  3,  3,  7,  3,  1, 22, 15,  5, 18,  2, 13, 13,\n",
       "       12, 14, 23, 13,  7, 23, 18, 15, 23, 14, 15,  1, 12, 14, 23, 16,  9,\n",
       "       10, 20,  4,  5, 22,  9,  3,  8, 15, 23,  8, 10, 17, 10,  5, 10, 17,\n",
       "       15])"
      ]
     },
     "execution_count": 13,
     "metadata": {},
     "output_type": "execute_result"
    }
   ],
   "source": [
    "np.array(list(test.block_assigns.values()))"
   ]
  },
  {
   "cell_type": "code",
   "execution_count": 16,
   "id": "ff7f762c",
   "metadata": {},
   "outputs": [
    {
     "data": {
      "text/plain": [
       "array([[14,  4],\n",
       "       [14,  5],\n",
       "       [15,  4],\n",
       "       [15,  5]])"
      ]
     },
     "execution_count": 16,
     "metadata": {},
     "output_type": "execute_result"
    }
   ],
   "source": [
    "np.argwhere(test.min_mask==3)"
   ]
  },
  {
   "cell_type": "code",
   "execution_count": 26,
   "id": "3e0fab99",
   "metadata": {},
   "outputs": [],
   "source": [
    "tass = {0: 0, 2: 1, 1: 2}"
   ]
  },
  {
   "cell_type": "code",
   "execution_count": 25,
   "id": "09ea8bb6",
   "metadata": {},
   "outputs": [
    {
     "data": {
      "text/plain": [
       "{0: 0,\n",
       " 1: 6,\n",
       " 2: 2,\n",
       " 3: 1,\n",
       " 4: 6,\n",
       " 5: 3,\n",
       " 6: 5,\n",
       " 7: 6,\n",
       " 8: 2,\n",
       " 9: 7,\n",
       " 10: 1,\n",
       " 11: 1,\n",
       " 12: 7,\n",
       " 13: 4,\n",
       " 14: 2,\n",
       " 15: 2,\n",
       " 16: 5,\n",
       " 17: 2,\n",
       " 18: 3,\n",
       " 19: 4,\n",
       " 20: 6,\n",
       " 21: 3,\n",
       " 22: 1,\n",
       " 23: 5,\n",
       " 24: 5,\n",
       " 25: 6,\n",
       " 26: 4,\n",
       " 27: 6,\n",
       " 28: 3,\n",
       " 29: 2,\n",
       " 30: 1,\n",
       " 31: 3,\n",
       " 32: 3,\n",
       " 33: 2,\n",
       " 34: 4,\n",
       " 35: 7,\n",
       " 36: 3,\n",
       " 37: 3,\n",
       " 38: 7,\n",
       " 39: 5,\n",
       " 40: 4,\n",
       " 41: 6,\n",
       " 42: 2,\n",
       " 43: 1,\n",
       " 44: 4,\n",
       " 45: 7,\n",
       " 46: 3,\n",
       " 47: 5,\n",
       " 48: 1,\n",
       " 49: 5,\n",
       " 50: 4,\n",
       " 51: 4,\n",
       " 52: 1,\n",
       " 53: 2,\n",
       " 54: 5,\n",
       " 55: 7,\n",
       " 56: 7,\n",
       " 57: 4,\n",
       " 58: 7,\n",
       " 59: 2,\n",
       " 60: 1,\n",
       " 61: 13,\n",
       " 62: 24,\n",
       " 63: 17,\n",
       " 64: 8,\n",
       " 65: 24,\n",
       " 66: 19,\n",
       " 67: 8,\n",
       " 68: 22,\n",
       " 69: 2,\n",
       " 70: 12,\n",
       " 71: 15,\n",
       " 72: 8,\n",
       " 73: 20,\n",
       " 74: 20,\n",
       " 75: 15,\n",
       " 76: 21,\n",
       " 77: 25,\n",
       " 78: 19,\n",
       " 79: 10,\n",
       " 80: 8,\n",
       " 81: 12,\n",
       " 82: 9,\n",
       " 83: 18,\n",
       " 84: 13,\n",
       " 85: 20,\n",
       " 86: 20,\n",
       " 87: 22,\n",
       " 88: 15,\n",
       " 89: 8,\n",
       " 90: 22,\n",
       " 91: 9,\n",
       " 92: 15,\n",
       " 93: 9,\n",
       " 94: 14,\n",
       " 95: 15,\n",
       " 96: 17,\n",
       " 97: 17,\n",
       " 98: 22,\n",
       " 99: 9,\n",
       " 100: 14,\n",
       " 101: 12,\n",
       " 102: 14}"
      ]
     },
     "execution_count": 25,
     "metadata": {},
     "output_type": "execute_result"
    }
   ],
   "source": [
    "test.block_assigns"
   ]
  },
  {
   "cell_type": "code",
   "execution_count": 34,
   "id": "94e44996",
   "metadata": {},
   "outputs": [
    {
     "data": {
      "text/plain": [
       "array([ 0,  6,  2,  1,  6,  3,  5,  6,  2,  7,  1,  1,  7,  4,  2,  2,  5,\n",
       "        2,  3,  4,  2,  2,  1,  5,  5,  6,  4,  6,  3,  2,  1,  3,  3,  2,\n",
       "        3,  7,  3,  3,  2,  4,  4,  6,  2,  1,  4,  7,  6,  5,  6,  5,  4,\n",
       "        4,  1,  2,  5,  7,  1,  4,  5,  2,  1, 15, 24, 17, 21, 24, 19, 24,\n",
       "       22, 11, 12, 15,  8, 20, 20, 15, 21, 25, 19, 10,  8, 12,  9, 18, 19,\n",
       "       20, 20, 22, 15,  8, 22,  9, 16, 17, 14, 15, 17, 17, 22,  9, 14, 12,\n",
       "       14])"
      ]
     },
     "execution_count": 34,
     "metadata": {},
     "output_type": "execute_result"
    }
   ],
   "source": [
    "np.array(list(test.min_block_assigns.values()))"
   ]
  },
  {
   "cell_type": "code",
   "execution_count": 32,
   "id": "433a7f7b",
   "metadata": {},
   "outputs": [],
   "source": [
    "test.block_assigns[0] = 10"
   ]
  },
  {
   "cell_type": "code",
   "execution_count": null,
   "id": "033e220a",
   "metadata": {},
   "outputs": [],
   "source": []
  }
 ],
 "metadata": {
  "kernelspec": {
   "display_name": "Python 3 (ipykernel)",
   "language": "python",
   "name": "python3"
  },
  "language_info": {
   "codemirror_mode": {
    "name": "ipython",
    "version": 3
   },
   "file_extension": ".py",
   "mimetype": "text/x-python",
   "name": "python",
   "nbconvert_exporter": "python",
   "pygments_lexer": "ipython3",
   "version": "3.9.12"
  }
 },
 "nbformat": 4,
 "nbformat_minor": 5
}
